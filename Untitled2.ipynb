{
 "cells": [
  {
   "cell_type": "code",
   "execution_count": null,
   "metadata": {},
   "outputs": [],
   "source": [
    "def my_max(*args):\n",
    "    result = args[0]\n",
    "    for i in args:\n",
    "        if result < i:\n",
    "            result = i\n",
    "        else:\n",
    "            pass\n",
    "    return result\n",
    "\n",
    "my_max(1, -2, 3, -4)"
   ]
  },
  {
   "cell_type": "code",
   "execution_count": null,
   "metadata": {},
   "outputs": [],
   "source": [
    "***************************1\n",
    "* ** ** ** ** ** ** ** ** *2\n",
    "***************************3\n",
    "***   ******   ******   ***4\n",
    "* *   * ** *   * ** *   * *5\n",
    "***   ******   ******   ***6\n",
    "***************************7\n",
    "* ** ** ** ** ** ** ** ** *8\n",
    "***************************9\n",
    "*********         *********10\n",
    "* ** ** *         * ** ** *11\n",
    "*********         *********12\n",
    "***   ***         ***   ***13\n",
    "* *   * *         * *   * *14\n",
    "***   ***         ***   ***15\n",
    "*********         *********16\n",
    "* ** ** *         * ** ** *17\n",
    "*********         *********18\n",
    "***************************19\n",
    "* ** ** ** ** ** ** ** ** *20\n",
    "***************************21\n",
    "***   ******   ******   ***22\n",
    "* *   * ** *   * ** *   * *23\n",
    "***   ******   ******   ***24\n",
    "***************************25\n",
    "* ** ** ** ** ** ** ** ** *26\n",
    "***************************27\n",
    "\n",
    "\n",
    "'*' * 27 = 1 3 7 9 / 10 12 13 15 16 18 / 19 21 25 27"
   ]
  },
  {
   "cell_type": "code",
   "execution_count": null,
   "metadata": {},
   "outputs": [],
   "source": [
    "n = 3\n",
    "for i in n:\n",
    "    for j in n:\n",
    "        print(('*' * i, end=\"\") * j)"
   ]
  },
  {
   "cell_type": "code",
   "execution_count": null,
   "metadata": {},
   "outputs": [],
   "source": [
    "def my_func(a,b):\n",
    "    c = a + b\n",
    "    print(c)\n",
    "    \n",
    "resul = my_func(4, 7)"
   ]
  },
  {
   "cell_type": "code",
   "execution_count": null,
   "metadata": {},
   "outputs": [],
   "source": [
    "# 파라미터 o & 리턴 o\n",
    "def my_sum(a, b):\n",
    "    result = a + b\n",
    "    return result\n",
    "\n",
    "total = my_sum(2,3)\n",
    "print(total)\n",
    "print(type(total))"
   ]
  },
  {
   "cell_type": "code",
   "execution_count": null,
   "metadata": {},
   "outputs": [],
   "source": [
    "# 파라미터 x & 리턴 o\n",
    "def hello():\n",
    "    return 'hello'\n",
    "\n",
    "greeting = hello()\n",
    "print(greeting)\n",
    "print(type(greeting))"
   ]
  },
  {
   "cell_type": "code",
   "execution_count": null,
   "metadata": {},
   "outputs": [],
   "source": [
    "# 파라미터 o & 리턴 x\n",
    "def say(name, age):\n",
    "    print(f'제 이름은 {name}이고, 나이는 {age}살 입니다.')\n",
    "    \n",
    "    \n",
    "a = say('change', 123)\n",
    "print(a)   \n",
    "# return을 안해줬기 때문에 result에 None이라는 결과가 들어있음"
   ]
  },
  {
   "cell_type": "code",
   "execution_count": null,
   "metadata": {},
   "outputs": [],
   "source": [
    "# 파라미터 x & 리턴 x\n",
    "def say():\n",
    "    print('안녕하세요 저는 change입니다.')\n",
    "    \n",
    "a = say()\n",
    "print(a)"
   ]
  },
  {
   "cell_type": "code",
   "execution_count": null,
   "metadata": {},
   "outputs": [],
   "source": [
    "def palindrome(word):\n",
    "    result = ''   # 앞에서 하나씩 붙이기 w    ow   row    drow\n",
    "    for i in word:\n",
    "        result = i + result\n",
    "    if word == result:\n",
    "        return True\n",
    "    else:\n",
    "        return False\n",
    "    \n",
    "palindrome('토마토')"
   ]
  },
  {
   "cell_type": "code",
   "execution_count": null,
   "metadata": {},
   "outputs": [],
   "source": [
    "def palindrome(word):\n",
    "    for i in range(len(word) // 2):   # 절반만 for문을 돌겠다.\n",
    "        if word [i] != word[-i-1]:\n",
    "            return False\n",
    "    else:\n",
    "        return True\n",
    "\n",
    "palindrome('토마토')"
   ]
  },
  {
   "cell_type": "code",
   "execution_count": null,
   "metadata": {},
   "outputs": [],
   "source": [
    "def palindrome(word):\n",
    "    return word == word[::-1]\n",
    "\n",
    "palindrome('토마토')"
   ]
  },
  {
   "cell_type": "code",
   "execution_count": 24,
   "metadata": {},
   "outputs": [
    {
     "name": "stdout",
     "output_type": "stream",
     "text": [
      "1.4140625 1.414306640625\n"
     ]
    }
   ],
   "source": [
    " def bisection(i):\n",
    "        a = 1\n",
    "        b = i**2\n",
    "        count = 0\n",
    "        while count < 12:\n",
    "            if a < i < b:\n",
    "                x = (a+b)/2\n",
    "                if x > i:\n",
    "                    b = x\n",
    "                else:\n",
    "                    a = x\n",
    "                count += 1\n",
    "        print(a, b) \n",
    "            \n",
    "        \n",
    "        \n",
    "bisection((2)**(1/2))"
   ]
  },
  {
   "cell_type": "code",
   "execution_count": 15,
   "metadata": {},
   "outputs": [
    {
     "name": "stdout",
     "output_type": "stream",
     "text": [
      "<class 'float'>\n"
     ]
    }
   ],
   "source": [
    "a = 1\n",
    "b = float(a)\n",
    "print(type(b))"
   ]
  },
  {
   "cell_type": "code",
   "execution_count": 12,
   "metadata": {},
   "outputs": [
    {
     "data": {
      "text/plain": [
       "[(1, 'kim'), (2, 'yang'), (3, 'park'), (4, 'jung')]"
      ]
     },
     "execution_count": 12,
     "metadata": {},
     "output_type": "execute_result"
    }
   ],
   "source": [
    "names = ['kim', 'yang', 'park', 'jung']\n",
    "list(enumerate(names, 1))"
   ]
  },
  {
   "cell_type": "code",
   "execution_count": 13,
   "metadata": {},
   "outputs": [
    {
     "ename": "SyntaxError",
     "evalue": "non-default argument follows default argument (<ipython-input-13-8ca464575a96>, line 2)",
     "output_type": "error",
     "traceback": [
      "\u001b[1;36m  File \u001b[1;32m\"<ipython-input-13-8ca464575a96>\"\u001b[1;36m, line \u001b[1;32m2\u001b[0m\n\u001b[1;33m    def greeting(name='익명', age):\u001b[0m\n\u001b[1;37m                ^\u001b[0m\n\u001b[1;31mSyntaxError\u001b[0m\u001b[1;31m:\u001b[0m non-default argument follows default argument\n"
     ]
    }
   ],
   "source": [
    "\n",
    "# 오류를 확인해봅시다.\n",
    "def greeting(name='익명', age):\n",
    "    print(f'{name}님은 {age}살 입니다.')\n",
    "    \n",
    "greegint(50)"
   ]
  },
  {
   "cell_type": "code",
   "execution_count": 15,
   "metadata": {},
   "outputs": [
    {
     "ename": "SyntaxError",
     "evalue": "positional argument follows keyword argument (<ipython-input-15-1d8413a93b70>, line 5)",
     "output_type": "error",
     "traceback": [
      "\u001b[1;36m  File \u001b[1;32m\"<ipython-input-15-1d8413a93b70>\"\u001b[1;36m, line \u001b[1;32m5\u001b[0m\n\u001b[1;33m    greeting(name = 'change',29)\u001b[0m\n\u001b[1;37m                            ^\u001b[0m\n\u001b[1;31mSyntaxError\u001b[0m\u001b[1;31m:\u001b[0m positional argument follows keyword argument\n"
     ]
    }
   ],
   "source": [
    "# 수정해 봅시다.\n",
    "def greeting(age, name='익명'):   # 디폴트값은 뒤쪽에 설정해준다.\n",
    "    print(f'{name}님은 {age}살 입니다.')\n",
    "    \n",
    "greeting(name = 'change',29)\n",
    "greeting(20)"
   ]
  },
  {
   "cell_type": "code",
   "execution_count": 16,
   "metadata": {},
   "outputs": [
    {
     "name": "stdout",
     "output_type": "stream",
     "text": [
      "global_num이 5으로 바꼈습니다.\n",
      "3\n"
     ]
    }
   ],
   "source": [
    "# 전역 변수를 바꿀 수 있을 까요?\n",
    "global_num = 3\n",
    "def localscope2():\n",
    "    global_num = 5\n",
    "    print(f'global_num이 {global_num}으로 바꼈습니다.')\n",
    "    \n",
    "localscope2()\n",
    "print(global_num)"
   ]
  },
  {
   "cell_type": "code",
   "execution_count": 17,
   "metadata": {},
   "outputs": [
    {
     "name": "stdout",
     "output_type": "stream",
     "text": [
      "g_num이 5으로 바뀜\n",
      "5\n"
     ]
    }
   ],
   "source": [
    "g_num = 3\n",
    "def g_func():\n",
    "    global g_num   # 선언하고\n",
    "    g_num = 5     # 할당해야함\n",
    "    print(f'g_num이 {g_num}으로 바뀜')\n",
    "    \n",
    "g_func()\n",
    "print(g_num)"
   ]
  },
  {
   "cell_type": "code",
   "execution_count": 20,
   "metadata": {},
   "outputs": [
    {
     "name": "stdout",
     "output_type": "stream",
     "text": [
      "배!고!파\n"
     ]
    }
   ],
   "source": [
    "print('!'.join('배고파'))"
   ]
  },
  {
   "cell_type": "code",
   "execution_count": 40,
   "metadata": {
    "scrolled": true
   },
   "outputs": [
    {
     "name": "stdout",
     "output_type": "stream",
     "text": [
      "[16, 38, 7, 18, 2, 24]\n",
      "None\n",
      "[2, 7, 16, 18, 24, 38]\n",
      "[38, 24, 18, 16, 7, 2]\n"
     ]
    }
   ],
   "source": [
    "# sort를 사용해봅시다.\n",
    "import random\n",
    "lotto = random.sample(range(1, 46), 6)\n",
    "print(lotto)\n",
    "print(lotto.sort())  \n",
    "print(lotto)\n",
    "lotto.sort(reverse=True)\n",
    "print(lotto)# sort(reverse=True): 내림차순으로 바꿔줌"
   ]
  },
  {
   "cell_type": "code",
   "execution_count": 2,
   "metadata": {},
   "outputs": [
    {
     "name": "stdout",
     "output_type": "stream",
     "text": [
      "['False', 'None', 'True', 'and', 'as', 'assert', 'async', 'await', 'break', 'class', 'continue', 'def', 'del', 'elif', 'else', 'except', 'finally', 'for', 'from', 'global', 'if', 'import', 'in', 'is', 'lambda', 'nonlocal', 'not', 'or', 'pass', 'raise', 'return', 'try', 'while', 'with', 'yield']\n"
     ]
    }
   ],
   "source": [
    "import keyword\n",
    "print(keyword.kwlist)"
   ]
  },
  {
   "cell_type": "code",
   "execution_count": null,
   "metadata": {},
   "outputs": [],
   "source": [
    "import math\n",
    "a = 0.1"
   ]
  },
  {
   "cell_type": "code",
   "execution_count": 1,
   "metadata": {},
   "outputs": [
    {
     "data": {
      "text/plain": [
       "33"
      ]
     },
     "execution_count": 1,
     "metadata": {},
     "output_type": "execute_result"
    }
   ],
   "source": [
    "def snail(meter, day, night):\n",
    "    count = 0\n",
    "    while meter > 0 :\n",
    "        meter -= day\n",
    "        count += 1\n",
    "        if meter < 0:\n",
    "            break\n",
    "        meter += night\n",
    "    return count\n",
    "snail(100, 5, 2)"
   ]
  },
  {
   "cell_type": "code",
   "execution_count": 5,
   "metadata": {},
   "outputs": [
    {
     "data": {
      "text/plain": [
       "['n', 'b']"
      ]
     },
     "execution_count": 5,
     "metadata": {},
     "output_type": "execute_result"
    }
   ],
   "source": [
    "def duplicated(word_list):\n",
    "    duplicate = []\n",
    "    for i in word_list:\n",
    "        if word_list.count(i) >1:\n",
    "            duplicate.append(i)\n",
    "    return list(set(duplicate))\n",
    "duplicated(['a', 'b', 'c', 'b', 'd', 'm', 'n', 'n', 'b'])"
   ]
  },
  {
   "cell_type": "code",
   "execution_count": 11,
   "metadata": {},
   "outputs": [
    {
     "name": "stdout",
     "output_type": "stream",
     "text": [
      "lrlr\n",
      "True\n",
      "lrrrl\n",
      "False\n"
     ]
    }
   ],
   "source": [
    "def comfortable_word(words):\n",
    "    left = {'q', 'w', 'e', 'r', 't', 'a', 's', 'd', 'f', 'g', 'z', 'x', 'c', 'v', 'b'}\n",
    "    right = {'y', 'u', 'i', 'o', 'p', 'h', 'j', 'k', 'l', 'n', 'm'}\n",
    "    \n",
    "    type_order = ''\n",
    "    for i in words:\n",
    "        if i in left:\n",
    "            type_order += 'l'\n",
    "        else:\n",
    "            type_order += 'r'\n",
    "    print(type_order)\n",
    "    if 'll' in type_order or 'rr' in type_order:\n",
    "        return False\n",
    "    else:\n",
    "        return True\n",
    "    \n",
    "print(comfortable_word('qywu'))\n",
    "print(comfortable_word('apple'))"
   ]
  },
  {
   "cell_type": "code",
   "execution_count": 18,
   "metadata": {},
   "outputs": [
    {
     "name": "stdout",
     "output_type": "stream",
     "text": [
      "1\n",
      "333\n",
      "55555\n",
      "None\n",
      "1\n",
      "333\n",
      "55555\n",
      "7777777\n",
      "999999999\n",
      "None\n"
     ]
    }
   ],
   "source": [
    "def pattern(num):\n",
    "    for i in range(1,num+1):\n",
    "        if i % 2:\n",
    "            print(f'{i}'*i)\n",
    "        \n",
    "        \n",
    "print(pattern(6))\n",
    "print(pattern(9))"
   ]
  },
  {
   "cell_type": "code",
   "execution_count": 20,
   "metadata": {
    "scrolled": true
   },
   "outputs": [
    {
     "name": "stdout",
     "output_type": "stream",
     "text": [
      "1\n",
      "1212\n",
      "0\n"
     ]
    }
   ],
   "source": [
    "def calc(equation):\n",
    "    return sum(list(map(int, ('0' + equation).replace('-', '+-').split('+'))))\n",
    "\n",
    "\n",
    "\n",
    "if __name__ == '__main__':\n",
    "    print(calc('123+2-124'))\n",
    "    print(calc('-12+12-7979+9191'))\n",
    "    print(calc('+1-1+1-1+1-1+1-1+1-1+1-1+1-1+1-1+1-1+1-1+1-1+1-1+1-1+1-1+1-1+1-1'))"
   ]
  },
  {
   "cell_type": "code",
   "execution_count": 31,
   "metadata": {},
   "outputs": [
    {
     "data": {
      "text/plain": [
       "1212"
      ]
     },
     "execution_count": 31,
     "metadata": {},
     "output_type": "execute_result"
    }
   ],
   "source": [
    "sum(list(map(int, ('0' +'-12+12-7979+9191').replace('-', '+-').split('+'))))"
   ]
  },
  {
   "cell_type": "code",
   "execution_count": 23,
   "metadata": {},
   "outputs": [
    {
     "name": "stdout",
     "output_type": "stream",
     "text": [
      "1\n",
      "1212\n",
      "0\n"
     ]
    }
   ],
   "source": [
    "def calc(equation):\n",
    "    plus_split = equation.split('+')\n",
    "    res = 0\n",
    "    for i in plus_split:\n",
    "        if i == '':\n",
    "            continue\n",
    "        minus_split = i.split('-')\n",
    "        if minus_split[0] != '':\n",
    "            res += int(minus_split[0])\n",
    "        if len(minus_split) == 2:\n",
    "            res -= int(minus_split[1])\n",
    "    return res\n",
    "\n",
    "if __name__ == '__main__':\n",
    "    print(calc('123+2-124'))\n",
    "    print(calc('-12+12-7979+9191'))\n",
    "    print(calc('+1-1+1-1+1-1+1-1+1-1+1-1+1-1+1-1+1-1+1-1+1-1+1-1+1-1+1-1+1-1+1-1'))"
   ]
  },
  {
   "cell_type": "code",
   "execution_count": null,
   "metadata": {},
   "outputs": [],
   "source": []
  },
  {
   "cell_type": "code",
   "execution_count": null,
   "metadata": {},
   "outputs": [],
   "source": []
  },
  {
   "cell_type": "code",
   "execution_count": null,
   "metadata": {},
   "outputs": [],
   "source": []
  },
  {
   "cell_type": "code",
   "execution_count": null,
   "metadata": {},
   "outputs": [],
   "source": []
  },
  {
   "cell_type": "code",
   "execution_count": null,
   "metadata": {},
   "outputs": [],
   "source": []
  },
  {
   "cell_type": "code",
   "execution_count": null,
   "metadata": {},
   "outputs": [],
   "source": []
  },
  {
   "cell_type": "code",
   "execution_count": null,
   "metadata": {},
   "outputs": [],
   "source": []
  }
 ],
 "metadata": {
  "kernelspec": {
   "display_name": "Python 3",
   "language": "python",
   "name": "python3"
  },
  "language_info": {
   "codemirror_mode": {
    "name": "ipython",
    "version": 3
   },
   "file_extension": ".py",
   "mimetype": "text/x-python",
   "name": "python",
   "nbconvert_exporter": "python",
   "pygments_lexer": "ipython3",
   "version": "3.7.4"
  }
 },
 "nbformat": 4,
 "nbformat_minor": 2
}
