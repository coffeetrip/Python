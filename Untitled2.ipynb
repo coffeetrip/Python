{
 "cells": [
  {
   "cell_type": "code",
   "execution_count": null,
   "metadata": {},
   "outputs": [],
   "source": [
    "def my_max(*args):\n",
    "    result = args[0]\n",
    "    for i in args:\n",
    "        if result < i:\n",
    "            result = i\n",
    "        else:\n",
    "            pass\n",
    "    return result\n",
    "\n",
    "my_max(1, -2, 3, -4)"
   ]
  },
  {
   "cell_type": "code",
   "execution_count": null,
   "metadata": {},
   "outputs": [],
   "source": [
    "***************************1\n",
    "* ** ** ** ** ** ** ** ** *2\n",
    "***************************3\n",
    "***   ******   ******   ***4\n",
    "* *   * ** *   * ** *   * *5\n",
    "***   ******   ******   ***6\n",
    "***************************7\n",
    "* ** ** ** ** ** ** ** ** *8\n",
    "***************************9\n",
    "*********         *********10\n",
    "* ** ** *         * ** ** *11\n",
    "*********         *********12\n",
    "***   ***         ***   ***13\n",
    "* *   * *         * *   * *14\n",
    "***   ***         ***   ***15\n",
    "*********         *********16\n",
    "* ** ** *         * ** ** *17\n",
    "*********         *********18\n",
    "***************************19\n",
    "* ** ** ** ** ** ** ** ** *20\n",
    "***************************21\n",
    "***   ******   ******   ***22\n",
    "* *   * ** *   * ** *   * *23\n",
    "***   ******   ******   ***24\n",
    "***************************25\n",
    "* ** ** ** ** ** ** ** ** *26\n",
    "***************************27\n",
    "\n",
    "\n",
    "'*' * 27 = 1 3 7 9 / 10 12 13 15 16 18 / 19 21 25 27"
   ]
  },
  {
   "cell_type": "code",
   "execution_count": null,
   "metadata": {},
   "outputs": [],
   "source": [
    "n = 3\n",
    "for i in n:\n",
    "    for j in n:\n",
    "        print(('*' * i, end=\"\") * j)"
   ]
  },
  {
   "cell_type": "code",
   "execution_count": null,
   "metadata": {},
   "outputs": [],
   "source": [
    "def my_func(a,b):\n",
    "    c = a + b\n",
    "    print(c)\n",
    "    \n",
    "resul = my_func(4, 7)"
   ]
  },
  {
   "cell_type": "code",
   "execution_count": null,
   "metadata": {},
   "outputs": [],
   "source": [
    "# 파라미터 o & 리턴 o\n",
    "def my_sum(a, b):\n",
    "    result = a + b\n",
    "    return result\n",
    "\n",
    "total = my_sum(2,3)\n",
    "print(total)\n",
    "print(type(total))"
   ]
  },
  {
   "cell_type": "code",
   "execution_count": null,
   "metadata": {},
   "outputs": [],
   "source": [
    "# 파라미터 x & 리턴 o\n",
    "def hello():\n",
    "    return 'hello'\n",
    "\n",
    "greeting = hello()\n",
    "print(greeting)\n",
    "print(type(greeting))"
   ]
  },
  {
   "cell_type": "code",
   "execution_count": null,
   "metadata": {},
   "outputs": [],
   "source": [
    "# 파라미터 o & 리턴 x\n",
    "def say(name, age):\n",
    "    print(f'제 이름은 {name}이고, 나이는 {age}살 입니다.')\n",
    "    \n",
    "    \n",
    "a = say('change', 123)\n",
    "print(a)   \n",
    "# return을 안해줬기 때문에 result에 None이라는 결과가 들어있음"
   ]
  },
  {
   "cell_type": "code",
   "execution_count": null,
   "metadata": {},
   "outputs": [],
   "source": [
    "# 파라미터 x & 리턴 x\n",
    "def say():\n",
    "    print('안녕하세요 저는 change입니다.')\n",
    "    \n",
    "a = say()\n",
    "print(a)"
   ]
  },
  {
   "cell_type": "code",
   "execution_count": null,
   "metadata": {},
   "outputs": [],
   "source": [
    "def palindrome(word):\n",
    "    result = ''   # 앞에서 하나씩 붙이기 w    ow   row    drow\n",
    "    for i in word:\n",
    "        result = i + result\n",
    "    if word == result:\n",
    "        return True\n",
    "    else:\n",
    "        return False\n",
    "    \n",
    "palindrome('토마토')"
   ]
  },
  {
   "cell_type": "code",
   "execution_count": null,
   "metadata": {},
   "outputs": [],
   "source": [
    "def palindrome(word):\n",
    "    for i in range(len(word) // 2):   # 절반만 for문을 돌겠다.\n",
    "        if word [i] != word[-i-1]:\n",
    "            return False\n",
    "    else:\n",
    "        return True\n",
    "\n",
    "palindrome('토마토')"
   ]
  },
  {
   "cell_type": "code",
   "execution_count": null,
   "metadata": {},
   "outputs": [],
   "source": [
    "def palindrome(word):\n",
    "    return word == word[::-1]\n",
    "\n",
    "palindrome('토마토')"
   ]
  },
  {
   "cell_type": "code",
   "execution_count": 24,
   "metadata": {},
   "outputs": [
    {
     "name": "stdout",
     "output_type": "stream",
     "text": [
      "1.4140625 1.414306640625\n"
     ]
    }
   ],
   "source": [
    " def bisection(i):\n",
    "        a = 1\n",
    "        b = i**2\n",
    "        count = 0\n",
    "        while count < 12:\n",
    "            if a < i < b:\n",
    "                x = (a+b)/2\n",
    "                if x > i:\n",
    "                    b = x\n",
    "                else:\n",
    "                    a = x\n",
    "                count += 1\n",
    "        print(a, b) \n",
    "            \n",
    "        \n",
    "        \n",
    "bisection((2)**(1/2))"
   ]
  },
  {
   "cell_type": "code",
   "execution_count": 15,
   "metadata": {},
   "outputs": [
    {
     "name": "stdout",
     "output_type": "stream",
     "text": [
      "<class 'float'>\n"
     ]
    }
   ],
   "source": [
    "a = 1\n",
    "b = float(a)\n",
    "print(type(b))"
   ]
  }
 ],
 "metadata": {
  "kernelspec": {
   "display_name": "Python 3",
   "language": "python",
   "name": "python3"
  },
  "language_info": {
   "codemirror_mode": {
    "name": "ipython",
    "version": 3
   },
   "file_extension": ".py",
   "mimetype": "text/x-python",
   "name": "python",
   "nbconvert_exporter": "python",
   "pygments_lexer": "ipython3",
   "version": "3.7.3"
  }
 },
 "nbformat": 4,
 "nbformat_minor": 2
}
