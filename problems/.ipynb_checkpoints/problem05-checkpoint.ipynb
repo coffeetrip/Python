{
 "cells": [
  {
   "cell_type": "markdown",
   "metadata": {},
   "source": [
    "# 2진수\n",
    "\n",
    "> 사용자의 입력을 받아 2진수 인지 확인해주는 코드를 작성하라.\n",
    ">\n",
    "> 만약 숫자가 아닌 입력값이 들어오면 \"숫자가 아닙니다\"를 출력하라."
   ]
  },
  {
   "cell_type": "code",
   "execution_count": null,
   "metadata": {},
   "outputs": [],
   "source": [
    "num = input()\n",
    "\n",
    "try:\n",
    "    user_input = int(num)\n",
    "except:\n",
    "    print('숫자가 아닙니다.')"
   ]
  },
  {
   "cell_type": "code",
   "execution_count": 153,
   "metadata": {},
   "outputs": [
    {
     "name": "stdout",
     "output_type": "stream",
     "text": [
      "100010\n",
      "2진수 입니다.\n"
     ]
    }
   ],
   "source": [
    "# 여기에 코드를 작성하시오.\n",
    "num = input()\n",
    "\n",
    "if num.isdigit():\n",
    "    user_num = set(num)\n",
    "    if user_num == {'0','1'} or user_num == {'0'} or user_num == {'1'}:\n",
    "        print(\"2진수 입니다.\")\n",
    "    else:\n",
    "        print(\"2진수가 아닙니다.\")\n",
    "        \n",
    "else:\n",
    "    print(\"숫자가 아닙니다.\")"
   ]
  },
  {
   "cell_type": "markdown",
   "metadata": {},
   "source": [
    "# 불쌍한 달팽이\n",
    "\n",
    ">달팽이는 낮 시간 동안에 기둥을 올라갑니다. 하지만 밤에는 잠을 자면서 어느 정도의 거리만큼미끄러집니다. (낮 시간 동안 올라간 거리보다는 적게 미끄러집니다) 달팽이가 기둥의 꼭대기에 도달하는 날까지 걸리는 날짜를 계산하면 됩니다.\n",
    "\n",
    "> 함수에 들어가야 하는 3개의 인자는 다음과 같습니다.\n",
    "- 기둥의 높이(미터)\n",
    "- 낮 시간 동안 달팽이가 올라가는 거리(미터)\n",
    "- 달팽이가 야간에 잠을 자는 동안 미끄러지는 거리(미터)\n",
    "\n",
    "```python\n",
    "snail(100, 5, 2)\n",
    "# => 33\n",
    "```"
   ]
  },
  {
   "cell_type": "code",
   "execution_count": 3,
   "metadata": {},
   "outputs": [],
   "source": [
    "# 여기에 코드를 작성하세요\n",
    "def snail(meter ,day, night):\n",
    "    count = 0\n",
    "    while meter >= 0:\n",
    "        count += 1\n",
    "        meter -= day\n",
    "        if meter <= 0:\n",
    "            break\n",
    "        meter += night \n",
    "    return count"
   ]
  },
  {
   "cell_type": "code",
   "execution_count": 4,
   "metadata": {},
   "outputs": [
    {
     "name": "stdout",
     "output_type": "stream",
     "text": [
      "33\n"
     ]
    }
   ],
   "source": [
    "# 해당 코드를 통해 올바른 결과가 나오는지 확인하세요.\n",
    "print(snail(100, 5, 2))"
   ]
  },
  {
   "cell_type": "markdown",
   "metadata": {},
   "source": [
    "# 무엇이 중복일까\n",
    "\n",
    "> 다음 리스트에서 중복되는 요소만 뽑아서 새로운 리스트에 옮기시오. \n",
    "\n",
    "```python\n",
    "# 입력)\n",
    "duplicated(['a', 'b', 'c', 'b', 'd', 'm', 'n', 'n', 'b'])\n",
    "\n",
    "# 출력)\n",
    "['b', 'n']\n",
    "```"
   ]
  },
  {
   "cell_type": "code",
   "execution_count": 171,
   "metadata": {},
   "outputs": [
    {
     "data": {
      "text/plain": [
       "['b', 'n']"
      ]
     },
     "execution_count": 171,
     "metadata": {},
     "output_type": "execute_result"
    }
   ],
   "source": [
    "# 여기에 코드를 작성하시오.\n",
    "def duplicated(arg):\n",
    "    list_arg = []\n",
    "    list_result = []\n",
    "    list_k = []\n",
    "    list_q = []\n",
    "    for i in arg:\n",
    "        if i not in list_arg:\n",
    "            list_arg.append(i)\n",
    "        else:\n",
    "            list_result.append(i)\n",
    "            \n",
    "    for j in list_result:\n",
    "        if j not in list_k:\n",
    "            list_k.append(j)\n",
    "        else:\n",
    "            list_q.append(j)\n",
    "                    \n",
    "    return list_k\n",
    "\n",
    "duplicated(['a', 'b', 'c', 'b', 'd', 'm', 'n', 'n', 'b'])"
   ]
  },
  {
   "cell_type": "code",
   "execution_count": 170,
   "metadata": {},
   "outputs": [
    {
     "name": "stdout",
     "output_type": "stream",
     "text": [
      "['b', 'n']\n"
     ]
    }
   ],
   "source": [
    "def duplicated(user_list):\n",
    "    duplicate = []\n",
    "    for char in user_list:\n",
    "        if user_list.count(char) > 1 and char not in duplicate:\n",
    "            duplicate.append(char)\n",
    "    return set(duplicate)\n",
    "    \n",
    "duplicated(['a', 'b', 'c', 'b', 'd', 'm', 'n', 'n', 'b'])"
   ]
  },
  {
   "cell_type": "code",
   "execution_count": 208,
   "metadata": {},
   "outputs": [
    {
     "data": {
      "text/plain": [
       "{'b', 'n'}"
      ]
     },
     "execution_count": 208,
     "metadata": {},
     "output_type": "execute_result"
    }
   ],
   "source": [
    "def duplicated(user_list):\n",
    "    duplicate = []\n",
    "    for char in user_list:\n",
    "        if user_list.count(char) > 1:\n",
    "            duplicate.append(char)\n",
    "    return set(duplicate)\n",
    "    \n",
    "duplicated(['a', 'b', 'c', 'b', 'd', 'm', 'n', 'n', 'b'])"
   ]
  },
  {
   "cell_type": "markdown",
   "metadata": {},
   "source": [
    "# 편-안한 단어\n",
    "\n",
    "> (QWERTY 키보드를 사용하여 타이핑을 한다고 가정할 때) '편안한 단어'는 타이핑 할 때 **손을 번갈아 칠 수 있는 단어**를 말합니다.\n",
    ">\n",
    "> 단어를 인자로 받아 그것이 '편안한 단어'인지 여부를 True/False로 반환하는 함수를 만드세요.(모든 단어는 a ~ z까지 오름차순으로 구성된 문자열입니다.)\n",
    "\n",
    "> 문자 목록\n",
    "- 왼손: q, w, e, r, t, a, s, d, f, g, z, x, c, v, b\n",
    "- 오른손: y, u, i, o, p, h, j, k, l, n, m"
   ]
  },
  {
   "cell_type": "code",
   "execution_count": 232,
   "metadata": {},
   "outputs": [
    {
     "name": "stdout",
     "output_type": "stream",
     "text": [
      "True\n",
      "False\n"
     ]
    }
   ],
   "source": [
    "# 여기에 코드를 작성하세요.\n",
    "def comfortable_word(words):\n",
    "    left_word = 'qwertasdfgzxcvb'\n",
    "    right_word = 'yuiophjklnm'\n",
    "    \n",
    "    left = True if words[0] in left_word else False\n",
    "    \n",
    "    for word in words[1:]:\n",
    "        if word in left_word and left:\n",
    "            return False\n",
    "        if word in right_word and not left:\n",
    "            return False\n",
    "        left = not left\n",
    "    return True \n",
    "\n",
    "print(comfortable_word('qywu'))\n",
    "print(comfortable_word('apple'))"
   ]
  },
  {
   "cell_type": "code",
   "execution_count": 233,
   "metadata": {},
   "outputs": [
    {
     "name": "stdout",
     "output_type": "stream",
     "text": [
      "True\n",
      "False\n"
     ]
    }
   ],
   "source": [
    "def comfortable_word(words):\n",
    "    left = {'q', 'w', 'e', 'r', 't', 'a', 's', 'd', 'f', 'g', 'z', 'x', 'c', 'v', 'b'}\n",
    "    right = {'y', 'u', 'i', 'o', 'p', 'h', 'j', 'k', 'l', 'n', 'm'}\n",
    "    \n",
    "    type_order = ''\n",
    "    \n",
    "    for char in words:\n",
    "        type_order = type_order + 'l' if char in left else type_order + 'r'\n",
    "        if 'll' in type_order or 'rr' in type_order:\n",
    "            return False\n",
    "    return True\n",
    "\n",
    "print(comfortable_word('qywu'))\n",
    "print(comfortable_word('apple'))"
   ]
  },
  {
   "cell_type": "markdown",
   "metadata": {},
   "source": [
    "# 숫자패턴\n",
    "\n",
    ">원하는 행까지 아래의 패턴을 생성하는 함수를 작성하세요. 만약 인자가 0이나 음의 정수인 경우 빈 문자열('')로 반환하세요.\n",
    "> \n",
    "> 짝수가 인수로 전달되면 패턴은 통과된 짝수보다 작은 최대 홀수까지 계속되어야 합니다.\n",
    "\n",
    "```python\n",
    "# 예시 \n",
    "print(pattern(9)):\n",
    "\n",
    "1\n",
    "333\n",
    "55555\n",
    "7777777\n",
    "999999999\n",
    "\n",
    "print(pattern(6))\n",
    "1\n",
    "333\n",
    "55555\n",
    "```\n",
    "**유의!**\n",
    "패턴에 공백은 없습니다."
   ]
  },
  {
   "cell_type": "code",
   "execution_count": 241,
   "metadata": {},
   "outputs": [
    {
     "name": "stdout",
     "output_type": "stream",
     "text": [
      "1\n",
      "33\n",
      "555\n",
      "7777\n",
      "99999\n",
      "None\n",
      "1\n",
      "33\n",
      "555\n",
      "None\n"
     ]
    }
   ],
   "source": [
    "# 여기에 코드를 작성하세요\n",
    "def pattern(a):\n",
    "    list_i = []\n",
    "    if a <= 0:\n",
    "        print(\"\\\"\\\"\")\n",
    "    else:\n",
    "        for i in range(1, a + 1):\n",
    "            if i % 2:\n",
    "                list_i.append(i)\n",
    "\n",
    "        for j in range(len(list_i)):\n",
    "            k = (str(list_i[j]) * (j+1))\n",
    "            print(k)\n",
    "            \n",
    "print(pattern(9))\n",
    "print(pattern(6))"
   ]
  },
  {
   "cell_type": "code",
   "execution_count": 240,
   "metadata": {},
   "outputs": [
    {
     "name": "stdout",
     "output_type": "stream",
     "text": [
      "1\n",
      "333\n",
      "55555\n",
      "7777777\n",
      "999999999\n",
      "\n",
      "1\n",
      "333\n",
      "55555\n",
      "\n"
     ]
    }
   ],
   "source": [
    "def pattern(num):\n",
    "    result = ''\n",
    "    if not num % 2:\n",
    "        num -= 1\n",
    "        \n",
    "    for i in range(1, num + 1, 2):\n",
    "        result += str(i) * i + '\\n'\n",
    "    return result\n",
    "\n",
    "\n",
    "print(pattern(9))\n",
    "print(pattern(6))"
   ]
  },
  {
   "cell_type": "code",
   "execution_count": 5,
   "metadata": {},
   "outputs": [
    {
     "name": "stdout",
     "output_type": "stream",
     "text": [
      "1\n",
      "333\n",
      "55555\n",
      "None\n",
      "1\n",
      "333\n",
      "55555\n",
      "7777777\n",
      "999999999\n",
      "None\n"
     ]
    }
   ],
   "source": [
    "def pattern(num):\n",
    "    for i in range(1,num+1):\n",
    "        if i % 2:\n",
    "            print(f'{i}'*i)\n",
    "        \n",
    "        \n",
    "print(pattern(6))\n",
    "print(pattern(9))"
   ]
  }
 ],
 "metadata": {
  "kernelspec": {
   "display_name": "Python 3",
   "language": "python",
   "name": "python3"
  },
  "language_info": {
   "codemirror_mode": {
    "name": "ipython",
    "version": 3
   },
   "file_extension": ".py",
   "mimetype": "text/x-python",
   "name": "python",
   "nbconvert_exporter": "python",
   "pygments_lexer": "ipython3",
   "version": "3.7.4"
  }
 },
 "nbformat": 4,
 "nbformat_minor": 2
}
