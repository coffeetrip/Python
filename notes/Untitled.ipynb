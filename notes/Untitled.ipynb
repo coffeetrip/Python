{
 "cells": [
  {
   "cell_type": "code",
   "execution_count": null,
   "metadata": {},
   "outputs": [],
   "source": [
    "ssafy = {\n",
    "    \"location\": [\"서울\", \"대전\", \"구미\", \"광주\"],\n",
    "    \"language\": {\n",
    "        \"python\": {\n",
    "            \"python standard library\": [\"os\", \"random\", \"webbrowser\"],\n",
    "            \"frameworks\": {\n",
    "                \"flask\": \"micro\",\n",
    "                \"django\": \"full-functioning\"\n",
    "            },\n",
    "            \"data_science\": [\"numpy\", \"pandas\", \"scipy\", \"sklearn\"],\n",
    "            \"scraping\": [\"requests\", \"bs4\"],\n",
    "        },\n",
    "        \"web\" : [\"HTML\", \"CSS\"]\n",
    "    },\n",
    "    \"classes\": {\n",
    "        \"gj\":  {\n",
    "            \"lecturer\": \"change\",\n",
    "            \"manager\": \"pro-gj\",\n",
    "            \"class president\": \"박선용\",\n",
    "            \"groups\": {\n",
    "                \"A\": [\"김선만\", \"박승재\", \"공현아\", \"박선용\", \"최화경\", \"정윤선\"],\n",
    "                \"B\": [\"김상돈\", \"박정우\", \"김기범\", \"남선웅\", \"정진주\"],\n",
    "                \"C\": [\"박승규\", \"김혁준\", \"김승연\", \"김규리\", \"최수빈\"],\n",
    "                \"D\": [\"고재형\", \"고태환\", \"양선\", \"윤준석\", \"윤서영\"],\n",
    "                \"E\": [\"정은지\", \"양예은\", \"정명한\", \"창호연\", \"최동호\"]\n",
    "            }\n",
    "        },\n",
    "        \"gm\": {\n",
    "            \"lecturer\": \"justin\",\n",
    "            \"manager\": \"pro-gm\"\n",
    "        }\n",
    "    }\n",
    "}"
   ]
  },
  {
   "cell_type": "markdown",
   "metadata": {},
   "source": [
    "2. python standard library에 'requests'가 있나요? : 접근 및 list in\n",
    "출력예시)\n",
    "False"
   ]
  },
  {
   "cell_type": "code",
   "execution_count": null,
   "metadata": {},
   "outputs": [],
   "source": [
    "a = ssafy.get('language').get('python').get('python standard library')\n",
    "print('request' in a)"
   ]
  },
  {
   "cell_type": "markdown",
   "metadata": {},
   "source": [
    "3. gj반의 반장의 이름을 출력하세요. : depth 있는 접근\n",
    "출력예시)\n",
    "박선용"
   ]
  },
  {
   "cell_type": "code",
   "execution_count": null,
   "metadata": {},
   "outputs": [],
   "source": [
    "ssafy.get('classes').get('gj').get('class president')"
   ]
  },
  {
   "cell_type": "code",
   "execution_count": null,
   "metadata": {},
   "outputs": [],
   "source": [
    " 4. ssafy에서 배우는 언어들을 출력하세요. : dictionary.keys() 반복\n",
    "출력 예시)\n",
    "python\n",
    "web"
   ]
  },
  {
   "cell_type": "code",
   "execution_count": null,
   "metadata": {
    "scrolled": true
   },
   "outputs": [],
   "source": [
    "for key in ssafy.get('language').keys():\n",
    "    print(key)"
   ]
  },
  {
   "cell_type": "markdown",
   "metadata": {},
   "source": [
    "5 ssafy gm반의 강사와 매니저의 이름을 출력하세요. dictionary.values() 반복\n",
    "출력 예시)\n",
    "justin\n",
    "pro-gm"
   ]
  },
  {
   "cell_type": "code",
   "execution_count": null,
   "metadata": {},
   "outputs": [],
   "source": [
    "for value in ssafy.get('classes').get('gm').values():\n",
    "    print(value)"
   ]
  },
  {
   "cell_type": "markdown",
   "metadata": {},
   "source": [
    "6. framework들의 이름과 설명을 다음과 같이 출력하세요. : dictionary 반복 및 string interpolation\n",
    "출력 예시)\n",
    "flask는 micro이다.\n",
    "django는 full-functioning이다."
   ]
  },
  {
   "cell_type": "code",
   "execution_count": null,
   "metadata": {},
   "outputs": [],
   "source": [
    "for key, value in ssafy.get('language').get('python').get('frameworks').items():\n",
    "    print(f'{key}는 {value}이다.')"
   ]
  },
  {
   "cell_type": "markdown",
   "metadata": {},
   "source": [
    "7. 오늘 당번을 뽑기 위해 groups의 E 그룹에서 한명을 랜덤으로 뽑아주세요. : depth 있는 접근 + list 가지고 와서 random.\n",
    "출력예시)\n",
    "오늘의 당번은 정은지"
   ]
  },
  {
   "cell_type": "code",
   "execution_count": null,
   "metadata": {},
   "outputs": [],
   "source": [
    "import random\n",
    "kk = ssafy.get('classes').get('gj').get('groups').get('E')\n",
    "print(random.choice(kk))"
   ]
  },
  {
   "cell_type": "code",
   "execution_count": null,
   "metadata": {},
   "outputs": [],
   "source": [
    "a = input(\"00/00 : \")\n",
    "\n",
    "if a == '12/25':\n",
    "    print(\"크리스마스입니다.\")\n",
    "else:\n",
    "    print(\"크리스마스가 아닙니다.\")"
   ]
  },
  {
   "cell_type": "code",
   "execution_count": null,
   "metadata": {},
   "outputs": [],
   "source": [
    "num = int(input(\"\"))\n",
    "\n",
    "if num % 2:\n",
    "    print(\"홀수입니다.\")\n",
    "else:\n",
    "    print(\"짝수입니다.\")"
   ]
  },
  {
   "cell_type": "code",
   "execution_count": null,
   "metadata": {},
   "outputs": [],
   "source": [
    "score = int(input(\"\"))\n",
    "\n",
    "if score >= 90:\n",
    "    print('A')\n",
    "    if score >= 95:\n",
    "        print(\"참잘했어요\")\n",
    "        \n",
    "elif score >= 80:\n",
    "    print('B')\n",
    "elif score >= 70:\n",
    "    print('C')\n",
    "elif score >= 60:\n",
    "    print('D')\n",
    "else:\n",
    "    print('F')"
   ]
  },
  {
   "cell_type": "code",
   "execution_count": null,
   "metadata": {},
   "outputs": [],
   "source": [
    "a = int(input(\"\"))\n",
    "print(\"0보다 큼\") if a > 0 else print(\"0보다 작음\")"
   ]
  },
  {
   "cell_type": "code",
   "execution_count": null,
   "metadata": {},
   "outputs": [],
   "source": [
    "num = -5\n",
    "if num >= 0:\n",
    "    value = num\n",
    "else:\n",
    "    value = 0\n",
    "print(value)"
   ]
  },
  {
   "cell_type": "code",
   "execution_count": null,
   "metadata": {},
   "outputs": [],
   "source": [
    "num = 2\n",
    "\n",
    "result = '홀수입니다.' if num % 2 else '짝수입니다.'\n",
    "print(result)"
   ]
  },
  {
   "cell_type": "code",
   "execution_count": null,
   "metadata": {},
   "outputs": [],
   "source": [
    "a = 0\n",
    "while a < 5:\n",
    "    print(a)\n",
    "    a += 1\n",
    "print(\"end\")"
   ]
  },
  {
   "cell_type": "code",
   "execution_count": 2,
   "metadata": {},
   "outputs": [
    {
     "name": "stdout",
     "output_type": "stream",
     "text": [
      "안녕:5\n",
      "안녕:4\n",
      "안녕:안녕\n",
      "안녕\n"
     ]
    }
   ],
   "source": [
    "a = 0\n",
    "while a != '안녕':\n",
    "    a = input(\"안녕:\")\n",
    "    \n",
    "print(\"안녕\")"
   ]
  },
  {
   "cell_type": "code",
   "execution_count": 3,
   "metadata": {},
   "outputs": [
    {
     "name": "stdout",
     "output_type": "stream",
     "text": [
      "문자를 입력하세요 : 안녕!\n",
      "안\n",
      "녕\n",
      "!\n"
     ]
    }
   ],
   "source": [
    "word = input(\"문자를 입력하세요 : \")\n",
    "\n",
    "for i in word:\n",
    "    print(i)"
   ]
  },
  {
   "cell_type": "code",
   "execution_count": 4,
   "metadata": {},
   "outputs": [
    {
     "name": "stdout",
     "output_type": "stream",
     "text": [
      "[1, 3, 5, 7, 9, 11, 13, 15, 17, 19, 21, 23, 25, 27, 29]\n"
     ]
    }
   ],
   "source": [
    "g_list = []\n",
    "for i in range(1,31,2):\n",
    "    g_list.append(i)\n",
    "print(g_list)"
   ]
  },
  {
   "cell_type": "code",
   "execution_count": 6,
   "metadata": {},
   "outputs": [
    {
     "name": "stdout",
     "output_type": "stream",
     "text": [
      "[1, 3, 5, 7, 9, 11, 13, 15, 17, 19, 21, 23, 25, 27, 29]\n"
     ]
    }
   ],
   "source": [
    "result = []\n",
    "for i in range(31):\n",
    "    if i % 2:\n",
    "        result.append(i)\n",
    "print(result)"
   ]
  },
  {
   "cell_type": "code",
   "execution_count": 8,
   "metadata": {},
   "outputs": [
    {
     "name": "stdout",
     "output_type": "stream",
     "text": [
      "2 a\n",
      "3 b\n",
      "4 c\n",
      "5 d\n"
     ]
    }
   ],
   "source": [
    "students = ['a', 'b', 'c', 'd']\n",
    "for idx, value in enumerate(students, 2):\n",
    "    print(idx, value)"
   ]
  },
  {
   "cell_type": "code",
   "execution_count": 10,
   "metadata": {},
   "outputs": [
    {
     "data": {
      "text/plain": [
       "[(2, 'a'), (3, 'b'), (4, 'c')]"
      ]
     },
     "execution_count": 10,
     "metadata": {},
     "output_type": "execute_result"
    }
   ],
   "source": [
    "name = ['a', 'b', 'c']\n",
    "list(enumerate(name, 2))"
   ]
  },
  {
   "cell_type": "code",
   "execution_count": 27,
   "metadata": {
    "scrolled": true
   },
   "outputs": [
    {
     "name": "stdout",
     "output_type": "stream",
     "text": [
      "a\n",
      "A a\n",
      "B b\n",
      "C c\n",
      "\n",
      "A a\n",
      "B b\n",
      "C c\n",
      "\n",
      "A\n",
      "B\n",
      "C\n",
      "\n",
      "a\n",
      "b\n",
      "c\n"
     ]
    }
   ],
   "source": [
    "students = {\"A\":\"a\", \"B\":\"b\", \"C\":\"c\"}\n",
    "print(students[\"A\"])\n",
    "\n",
    "for key, value in students.items():\n",
    "    print(key, value)\n",
    "print()\n",
    "for student in students:\n",
    "    print(student, students[student])\n",
    "print()\n",
    "for student_key in students.keys():\n",
    "    print(student_key)\n",
    "print()\n",
    "for student_value in students.values():\n",
    "    print(student_value)"
   ]
  },
  {
   "cell_type": "code",
   "execution_count": 32,
   "metadata": {},
   "outputs": [
    {
     "name": "stdout",
     "output_type": "stream",
     "text": [
      "0\n",
      "1\n",
      "0,1만 필요함\n"
     ]
    }
   ],
   "source": [
    "for i in range(10):\n",
    "    if i > 1:\n",
    "        print(\"0,1만 필요함\")\n",
    "        break\n",
    "    print(i)"
   ]
  },
  {
   "cell_type": "code",
   "execution_count": 33,
   "metadata": {},
   "outputs": [
    {
     "name": "stdout",
     "output_type": "stream",
     "text": [
      "보리\n",
      "보리\n",
      "보리\n",
      "쌀\n",
      "잡았다!\n"
     ]
    }
   ],
   "source": [
    "rice = [\"보리\", \"보리\", \"보리\", \"쌀\", \"보리\"]\n",
    "for i in rice:\n",
    "    print(i)\n",
    "    if i == \"쌀\":\n",
    "        print(\"잡았다!\")\n",
    "        break"
   ]
  },
  {
   "cell_type": "code",
   "execution_count": 36,
   "metadata": {},
   "outputs": [
    {
     "name": "stdout",
     "output_type": "stream",
     "text": [
      "0\n",
      "2\n",
      "4\n",
      "6\n",
      "8\n"
     ]
    }
   ],
   "source": [
    "for i in range(10):\n",
    "    if i % 2:\n",
    "        continue\n",
    "    print(i)"
   ]
  },
  {
   "cell_type": "code",
   "execution_count": 39,
   "metadata": {},
   "outputs": [
    {
     "name": "stdout",
     "output_type": "stream",
     "text": [
      "23살은 성인입니다.\n",
      "30살은 성인입니다.\n",
      "25살은 성인입니다.\n",
      "31살은 성인입니다.\n"
     ]
    }
   ],
   "source": [
    "age = [10, 23, 8, 30, 25, 31]\n",
    "for i in age:\n",
    "    if i < 20:\n",
    "        continue\n",
    "    print(f\"{i}살은 성인입니다.\")"
   ]
  },
  {
   "cell_type": "code",
   "execution_count": 40,
   "metadata": {},
   "outputs": [
    {
     "name": "stdout",
     "output_type": "stream",
     "text": [
      "0\n",
      "1\n",
      "2\n",
      "break 실행 안됨\n"
     ]
    }
   ],
   "source": [
    "for i in range(3):\n",
    "    print(i)\n",
    "    if i == 100:\n",
    "        print(f'{i}에서 break')\n",
    "        break\n",
    "else:\n",
    "    print('break 실행 안됨')"
   ]
  },
  {
   "cell_type": "code",
   "execution_count": null,
   "metadata": {},
   "outputs": [],
   "source": []
  }
 ],
 "metadata": {
  "kernelspec": {
   "display_name": "Python 3",
   "language": "python",
   "name": "python3"
  },
  "language_info": {
   "codemirror_mode": {
    "name": "ipython",
    "version": 3
   },
   "file_extension": ".py",
   "mimetype": "text/x-python",
   "name": "python",
   "nbconvert_exporter": "python",
   "pygments_lexer": "ipython3",
   "version": "3.7.3"
  }
 },
 "nbformat": 4,
 "nbformat_minor": 2
}
