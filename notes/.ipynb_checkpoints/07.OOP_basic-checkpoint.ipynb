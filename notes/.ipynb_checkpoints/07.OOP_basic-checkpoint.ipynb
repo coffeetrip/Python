{
 "cells": [
  {
   "cell_type": "code",
   "execution_count": 87,
   "metadata": {},
   "outputs": [],
   "source": [
    "from IPython.display import IFrame"
   ]
  },
  {
   "cell_type": "markdown",
   "metadata": {},
   "source": [
    "# OOP with python\n",
    "\n",
    "## 시작하기전에\n",
    "\n",
    "<wikipedia - 객체지향 프로그래밍> \n",
    ">\n",
    "> 객체 지향 프로그래밍(영어: Object-Oriented Programming, OOP)은 컴퓨터 프로그래밍의 패러다임의 하나이다. 객체 지향 프로그래밍은 컴퓨터 프로그램을 명령어의 목록으로 보는 시각에서 벗어나 여러 개의 독립된 단위, 즉 \"객체\"들의 모임으로 파악하고자 하는 것이다. 각각의 객체는 메시지를 주고받고, 데이터를 처리할 수 있다.\n",
    ">\n",
    "> 명령형 프로그래밍인 절차지향 프로그래밍에서 발전된 형태를 나타내며, 기본 구성요소는 다음과 같다.\n",
    "\n",
    "* 클래스(Class) - 정의\n",
    "    - 같은 종류(또는 문제 해결을 위한)의 집단에 속하는 **`속성(attribute)`**과 **`행위(behavior)`** 정의한 것으로 객체지향 프로그램의 기본적인 사용자 정의 데이터형(user define data type)이라고 할 수 있다\n",
    "    - 클래스는 프로그래머가 아니지만 해결해야 할 문제가 속하는 영역에 종사하는 사람이라면 사용할 수 있고, 다른 클래스 또는 외부 요소와 독립적으로 디자인하여야 한다.\n",
    "\n",
    "\n",
    "* 인스턴스(instance) - 생성\n",
    "    - 클래스의 인스턴스/객체(실제로 메모리상에 할당된 것)이다. \n",
    "    - 객체는 자신 고유의 속성(attribute)을 가지며 클래스에서 정의한 행위(behavior)를 수행할 수 있다. \n",
    "    - 객체의 행위는 클래스에 정의된 행위에 대한 정의(메서드)를 공유함으로써 메모리를 경제적으로 사용한다.\n",
    "\n",
    "\n",
    "* 속성(attribute) \n",
    "    - 클래스/인스턴스 가 가지고 있는 `속성(값)`\n",
    "\n",
    "\n",
    "* 메서드(Method) \n",
    "    - 클래스/인스턴스 가 할 수 있는 `행위(함수)`"
   ]
  },
  {
   "cell_type": "markdown",
   "metadata": {},
   "source": [
    "\n",
    "\n",
    "| class / type | instance                 | attributes       | methods                                |\n",
    "| ------------ | ------------------------ | ---------------- | -------------------------------------- |\n",
    "| `str`        | `''`, `'hello'`, `'123'` |       _          | `.capitalize()`, `.join()`, `.split()` |\n",
    "| `list`       | `[]`, `['a', 'b']`       |       _          | `.append()`, `reverse()`, `sort()`     |\n",
    "| `dict`       | `{}`, `{'key': 'value'}` |       _          | `.keys()`, `.values()`, `.items().`    |\n",
    "| `int`        | `0`, `1`, `2`            | `.real`, `.imag` |                                        |"
   ]
  },
  {
   "cell_type": "code",
   "execution_count": 88,
   "metadata": {},
   "outputs": [
    {
     "name": "stdout",
     "output_type": "stream",
     "text": [
      "(3+4j)\n",
      "3.0\n"
     ]
    }
   ],
   "source": [
    "# 복소수를 하나 만들어보고, 타입을 출력해봅시다.\n",
    "img_number = 3 + 4j\n",
    "print(img_number)\n",
    "print(img_number.real)  # .real은 가로가 없다.(attributes에 접근) // 가로가 있으면 메소드에 접근"
   ]
  },
  {
   "cell_type": "markdown",
   "metadata": {},
   "source": [
    "> 위에서 말한 속성(값)과 행위(메서드)를 명확히 구분해 봅시다\n",
    "\n",
    "* `complex` class의 객체들의 속성들을 확인해 봅시다."
   ]
  },
  {
   "cell_type": "code",
   "execution_count": 89,
   "metadata": {},
   "outputs": [
    {
     "name": "stdout",
     "output_type": "stream",
     "text": [
      "3.0\n",
      "4.0\n"
     ]
    }
   ],
   "source": [
    "# 허수부랑 실수부를 함께 출력해봅시다. complex 객체의 실수 속성과 허수 속성이라고도 표현 가능합니다.\n",
    "print(img_number.real)\n",
    "print(img_number.imag)"
   ]
  },
  {
   "cell_type": "markdown",
   "metadata": {},
   "source": [
    "* `list` class의 객체들이 할 수 있는 행위(메서드)들을 확인해 봅시다."
   ]
  },
  {
   "cell_type": "code",
   "execution_count": 90,
   "metadata": {},
   "outputs": [
    {
     "name": "stdout",
     "output_type": "stream",
     "text": [
      "<class 'list'>\n",
      "[1, 2, 3, 4, 5]\n"
     ]
    },
    {
     "ename": "AttributeError",
     "evalue": "'str' object has no attribute 'sort'",
     "output_type": "error",
     "traceback": [
      "\u001b[1;31m---------------------------------------------------------------------------\u001b[0m",
      "\u001b[1;31mAttributeError\u001b[0m                            Traceback (most recent call last)",
      "\u001b[1;32m<ipython-input-90-d5130b5dd42e>\u001b[0m in \u001b[0;36m<module>\u001b[1;34m\u001b[0m\n\u001b[0;32m      6\u001b[0m \u001b[0mprint\u001b[0m\u001b[1;33m(\u001b[0m\u001b[0mmy_list\u001b[0m\u001b[1;33m)\u001b[0m\u001b[1;33m\u001b[0m\u001b[1;33m\u001b[0m\u001b[0m\n\u001b[0;32m      7\u001b[0m \u001b[1;33m\u001b[0m\u001b[0m\n\u001b[1;32m----> 8\u001b[1;33m \u001b[1;34m\"asdf\"\u001b[0m\u001b[1;33m.\u001b[0m\u001b[0msort\u001b[0m\u001b[1;33m(\u001b[0m\u001b[1;33m)\u001b[0m   \u001b[1;31m# 문자열 오브젝트에는 sort가 없다.(사용할 수 없는 메소드)\u001b[0m\u001b[1;33m\u001b[0m\u001b[1;33m\u001b[0m\u001b[0m\n\u001b[0m",
      "\u001b[1;31mAttributeError\u001b[0m: 'str' object has no attribute 'sort'"
     ]
    }
   ],
   "source": [
    "# 리스트를 하나 만들고 정렬해봅시다. list 객체의 메서드 실행이라고도 표현 가능합니다.\n",
    "my_list = [5, 4, 3, 2 ,1]\n",
    "print(type(my_list))\n",
    "\n",
    "my_list.sort()  # 자기자신을 정렬 (sorted는 return까지함)\n",
    "print(my_list)\n",
    "\n",
    "\"asdf\".sort()   # 문자열 오브젝트에는 sort가 없다.(사용할 수 없는 메소드)"
   ]
  },
  {
   "cell_type": "code",
   "execution_count": 91,
   "metadata": {},
   "outputs": [
    {
     "name": "stdout",
     "output_type": "stream",
     "text": [
      "['__add__', '__class__', '__contains__', '__delattr__', '__delitem__', '__dir__', '__doc__', '__eq__', '__format__', '__ge__', '__getattribute__', '__getitem__', '__gt__', '__hash__', '__iadd__', '__imul__', '__init__', '__init_subclass__', '__iter__', '__le__', '__len__', '__lt__', '__mul__', '__ne__', '__new__', '__reduce__', '__reduce_ex__', '__repr__', '__reversed__', '__rmul__', '__setattr__', '__setitem__', '__sizeof__', '__str__', '__subclasshook__', 'append', 'clear', 'copy', 'count', 'extend', 'index', 'insert', 'pop', 'remove', 'reverse', 'sort']\n"
     ]
    }
   ],
   "source": [
    "# list class 의 객체들이 할 수 있는 것들을 알아봅시다. (list 객체가 가지고 있는 모든 속성과 메서드를 보여줍니다.)\n",
    "print(dir([1, 2, 3]))  # __제외 => list가 할 수 있는 행동"
   ]
  },
  {
   "cell_type": "markdown",
   "metadata": {},
   "source": [
    "## 실습 (without OOP)\n",
    "\n",
    "> 프로그래밍으로, 현재 나의 핸드폰을 코드로 옮겨봅시다.\n",
    "\n",
    "**정답은 없습니다. 자유롭게 구현해 봅시다.**\n",
    "\n",
    "* 핸드폰은 다음과 같은 속성(값)을 가지고 있습니다.\n",
    "    * 전원(`power`) - `bool`\n",
    "    * 내 전화번호(`number`) - `str`\n",
    "    * 전화번호부(`book`) - `dict`\n",
    "    * 모델명(`model`) - `str`\n",
    "\n",
    "* 핸드폰은 다음과 같은 다음과 같은 행동(함수)을 할 수 있습니다.\n",
    "    * 켜기(`on()`)\n",
    "    * 끄기(`off()`)\n",
    "    * 내 전화번호 설정하기(`set_my_number(number)`)\n",
    "    * 전화걸기(`call(number)`)\n",
    "    * 전화번호부에 번호 저장하기(`save(name, number)`)"
   ]
  },
  {
   "cell_type": "code",
   "execution_count": 92,
   "metadata": {},
   "outputs": [],
   "source": [
    "# 아래에 자유롭게 코드를 작성해보세요.\n",
    "power = False\n",
    "number = ''\n",
    "book = {}\n",
    "model = 'samsung galaxy s10'\n",
    "\n",
    "\n",
    "def on():\n",
    "    if not power:\n",
    "        power = True\n",
    "        return power\n",
    "\n",
    "def off():\n",
    "    if power:\n",
    "        power = False\n",
    "        return power\n",
    "    \n",
    "def set_my_nubmer(number):\n",
    "    if power:\n",
    "        number = number\n",
    "\n",
    "def call(number):\n",
    "    if power:\n",
    "        if number in book:\n",
    "            print(f'{book[number]} 에게 전화중입니다.')\n",
    "        else:\n",
    "            print(f'{number} 에게 전화중입니다.')\n",
    "\n",
    "def save(name, number):\n",
    "    if power:\n",
    "        book[name] = number\n",
    "        return book"
   ]
  },
  {
   "cell_type": "code",
   "execution_count": 93,
   "metadata": {},
   "outputs": [],
   "source": [
    "# 핸드폰을 켜지 않고 이런저런 일을 해 봅시다.\n",
    "call('112')"
   ]
  },
  {
   "cell_type": "code",
   "execution_count": 94,
   "metadata": {},
   "outputs": [
    {
     "ename": "UnboundLocalError",
     "evalue": "local variable 'power' referenced before assignment",
     "output_type": "error",
     "traceback": [
      "\u001b[1;31m---------------------------------------------------------------------------\u001b[0m",
      "\u001b[1;31mUnboundLocalError\u001b[0m                         Traceback (most recent call last)",
      "\u001b[1;32m<ipython-input-94-45cc60fd92ae>\u001b[0m in \u001b[0;36m<module>\u001b[1;34m\u001b[0m\n\u001b[0;32m      1\u001b[0m \u001b[1;31m# 핸드폰을 켜봅시다.\u001b[0m\u001b[1;33m\u001b[0m\u001b[1;33m\u001b[0m\u001b[1;33m\u001b[0m\u001b[0m\n\u001b[1;32m----> 2\u001b[1;33m \u001b[0mon\u001b[0m\u001b[1;33m(\u001b[0m\u001b[1;33m)\u001b[0m   \u001b[1;31m# def는 안쪽의 power만 찾는다. (안에 없다.)\u001b[0m\u001b[1;33m\u001b[0m\u001b[1;33m\u001b[0m\u001b[0m\n\u001b[0m\u001b[0;32m      3\u001b[0m \u001b[0mprint\u001b[0m\u001b[1;33m(\u001b[0m\u001b[0mpower\u001b[0m\u001b[1;33m)\u001b[0m\u001b[1;33m\u001b[0m\u001b[1;33m\u001b[0m\u001b[0m\n",
      "\u001b[1;32m<ipython-input-92-963086c6b555>\u001b[0m in \u001b[0;36mon\u001b[1;34m()\u001b[0m\n\u001b[0;32m      7\u001b[0m \u001b[1;33m\u001b[0m\u001b[0m\n\u001b[0;32m      8\u001b[0m \u001b[1;32mdef\u001b[0m \u001b[0mon\u001b[0m\u001b[1;33m(\u001b[0m\u001b[1;33m)\u001b[0m\u001b[1;33m:\u001b[0m\u001b[1;33m\u001b[0m\u001b[1;33m\u001b[0m\u001b[0m\n\u001b[1;32m----> 9\u001b[1;33m     \u001b[1;32mif\u001b[0m \u001b[1;32mnot\u001b[0m \u001b[0mpower\u001b[0m\u001b[1;33m:\u001b[0m\u001b[1;33m\u001b[0m\u001b[1;33m\u001b[0m\u001b[0m\n\u001b[0m\u001b[0;32m     10\u001b[0m         \u001b[0mpower\u001b[0m \u001b[1;33m=\u001b[0m \u001b[1;32mTrue\u001b[0m\u001b[1;33m\u001b[0m\u001b[1;33m\u001b[0m\u001b[0m\n\u001b[0;32m     11\u001b[0m         \u001b[1;32mreturn\u001b[0m \u001b[0mpower\u001b[0m\u001b[1;33m\u001b[0m\u001b[1;33m\u001b[0m\u001b[0m\n",
      "\u001b[1;31mUnboundLocalError\u001b[0m: local variable 'power' referenced before assignment"
     ]
    }
   ],
   "source": [
    "# 핸드폰을 켜봅시다. \n",
    "on()   # def는 안쪽의 power만 찾는다. (안에 없다.)\n",
    "print(power)   "
   ]
  },
  {
   "cell_type": "code",
   "execution_count": 95,
   "metadata": {},
   "outputs": [],
   "source": [
    "# 켜지지 않습니다.. 어째서 그런 걸까요?\n",
    "power = True"
   ]
  },
  {
   "cell_type": "code",
   "execution_count": 96,
   "metadata": {},
   "outputs": [
    {
     "data": {
      "text/plain": [
       "{'친구': '01012341234'}"
      ]
     },
     "execution_count": 96,
     "metadata": {},
     "output_type": "execute_result"
    }
   ],
   "source": [
    "# save 를 통해 번호를 저장해 봅시다.\n",
    "save('친구', '01012341234')"
   ]
  },
  {
   "cell_type": "code",
   "execution_count": 97,
   "metadata": {},
   "outputs": [
    {
     "name": "stdout",
     "output_type": "stream",
     "text": [
      "01012341234 에게 전화중입니다.\n"
     ]
    }
   ],
   "source": [
    "# call 을 통해 전화를 걸어봅시다.\n",
    "call('친구')"
   ]
  },
  {
   "cell_type": "markdown",
   "metadata": {},
   "source": [
    "### 문제점\n",
    "\n",
    "현재 코드로 구현한 핸드폰에서 잘못되었다고 느껴지거나 문제가 발생할 만한 요소들을 이야기 해 봅시다. \n",
    "\n",
    "기존의 방식대로 다른 사람의 핸드폰을 구현해야 한다면? 그 수가 엄청 많다면?? 새 파일(모듈)?"
   ]
  },
  {
   "cell_type": "markdown",
   "metadata": {},
   "source": [
    "1. 핸드폰이라면 모두 가지는 공통적인 속성/행동 들이 정의 되어 있지 않기 때문에, 전화를 못거는 폰이 생길 수 있다. => `추상화`\n",
    "2. 값과 함수들이 묶여있지 않다. 어떤 번호가 어떤 핸드폰의 번호인지, 어떤 함수가 어떤 핸드폰에 번호 저장을 하는 함수인지 쉽게 알 수 없고 이런 잘못된 행동을 방지할 수 없다. => `캡슐화` (파이썬에 없는 개념)\n",
    "3. 핸드폰 중에서 삼성 핸드폰이라면 모두 가지는 공통적인 특징(삼성페이)을 구현하려면 같은 코드를 모든 삼성 핸드폰에 작성해야 한다. => `상속`\n",
    "4. 다형성 부분은 pass"
   ]
  },
  {
   "cell_type": "markdown",
   "metadata": {},
   "source": [
    "# 클래스 및 인스턴스"
   ]
  },
  {
   "cell_type": "markdown",
   "metadata": {},
   "source": [
    "## 클래스 정의하기 (클래스 객체 생성하기)\n",
    "\n",
    "```python\n",
    "class ClassName:\n",
    "    \n",
    "```\n",
    "\n",
    "* 선언과 동시에 클래스 객체가 생성됨.\n",
    "\n",
    "* 또한, 선언된 공간은 지역 스코프로 사용된다.\n",
    "\n",
    "* 정의된 `어트리뷰트` 중 변수는 `멤버 변수`로 불리운다.\n",
    "\n",
    "* 정의된 함수(`def`)는 `메서드`로 불리운다.\n",
    "\n",
    "* 첫 글자는 대문자"
   ]
  },
  {
   "cell_type": "code",
   "execution_count": 98,
   "metadata": {},
   "outputs": [],
   "source": [
    "# Class를 만들어봅시다.\n",
    "class TestClass:\n",
    "    \"\"\"\n",
    "    이것은 테스트 클래스 입니다.\n",
    "    \"\"\"\n",
    "    name = 'TestClass'"
   ]
  },
  {
   "cell_type": "code",
   "execution_count": 99,
   "metadata": {},
   "outputs": [
    {
     "name": "stdout",
     "output_type": "stream",
     "text": [
      "<class 'type'>\n"
     ]
    }
   ],
   "source": [
    "print(type(TestClass))"
   ]
  },
  {
   "cell_type": "markdown",
   "metadata": {},
   "source": [
    "## 인스턴스 생성하기\n",
    "\n",
    "* 인스턴스 객체는 `ClassName()`을 호출함으로써 선언된다.\n",
    "\n",
    "* 인스턴스 객체와 클래스 객체는 서로 다른 이름 공간을 가지고 있다.\n",
    "\n",
    "* **인스턴스 => 클래스 => 전역 순으로 탐색을 한다.**"
   ]
  },
  {
   "cell_type": "code",
   "execution_count": 100,
   "metadata": {},
   "outputs": [
    {
     "name": "stdout",
     "output_type": "stream",
     "text": [
      "<__main__.TestClass object at 0x000001CBA248F4E0>\n",
      "<class '__main__.TestClass'>\n",
      "\n",
      "    이것은 테스트 클래스 입니다.\n",
      "    \n"
     ]
    }
   ],
   "source": [
    "# TestClass 의 인스턴스를 만들어 봅시다.\n",
    "tc = TestClass()    # __init__ 호출\n",
    "print(tc)\n",
    "print(type(tc))\n",
    "print(tc.__doc__)"
   ]
  },
  {
   "cell_type": "code",
   "execution_count": 101,
   "metadata": {},
   "outputs": [
    {
     "name": "stdout",
     "output_type": "stream",
     "text": [
      "TestClass\n",
      "테스트\n"
     ]
    }
   ],
   "source": [
    "# namespace..?\n",
    "print(tc.name)  # name변수에 저장된거\n",
    "tc.name = '테스트'\n",
    "print(tc.name)  # 바꿀 수 있다."
   ]
  },
  {
   "cell_type": "code",
   "execution_count": 102,
   "metadata": {},
   "outputs": [],
   "source": [
    "# Phone 클래스를 만들어봅시다.\n",
    "class Phone:\n",
    "    power = False\n",
    "    number = ''\n",
    "    book = {}\n",
    "    model = 'note8'\n",
    "    \n",
    "    def on(self):\n",
    "        if not self.power:\n",
    "            self.power = True\n",
    "            print('=========')\n",
    "            print(f'{self.model}')\n",
    "            print('=========')\n",
    "    def off(self):\n",
    "        if self.power:\n",
    "            self.power = False\n",
    "            print('꺼졌습니다.')"
   ]
  },
  {
   "cell_type": "markdown",
   "metadata": {},
   "source": [
    "* 선언시 `self`는 반드시 작성해주세요! 아래에서 다시 다룹니다."
   ]
  },
  {
   "cell_type": "code",
   "execution_count": 103,
   "metadata": {},
   "outputs": [
    {
     "name": "stdout",
     "output_type": "stream",
     "text": [
      "note8\n"
     ]
    }
   ],
   "source": [
    "# 클래스 Phone 인스턴스 'my_phone' 를 만들어봅시다. \n",
    "my_phone = Phone()\n",
    "print(my_phone.model)"
   ]
  },
  {
   "cell_type": "code",
   "execution_count": 104,
   "metadata": {},
   "outputs": [
    {
     "data": {
      "text/plain": [
       "False"
      ]
     },
     "execution_count": 104,
     "metadata": {},
     "output_type": "execute_result"
    }
   ],
   "source": [
    "# 켜져 있나 확인해 봅시다.\n",
    "my_phone.power"
   ]
  },
  {
   "cell_type": "code",
   "execution_count": 105,
   "metadata": {},
   "outputs": [
    {
     "name": "stdout",
     "output_type": "stream",
     "text": [
      "=========\n",
      "note8\n",
      "=========\n"
     ]
    }
   ],
   "source": [
    "# 새 폰은 꺼져있으니 켜 봅시다.\n",
    "my_phone.on()"
   ]
  },
  {
   "cell_type": "code",
   "execution_count": 106,
   "metadata": {},
   "outputs": [
    {
     "data": {
      "text/plain": [
       "True"
      ]
     },
     "execution_count": 106,
     "metadata": {},
     "output_type": "execute_result"
    }
   ],
   "source": [
    "# 전원 상태를 확인해 봅시다.\n",
    "my_phone.power"
   ]
  },
  {
   "cell_type": "code",
   "execution_count": 107,
   "metadata": {},
   "outputs": [
    {
     "data": {
      "text/plain": [
       "'note8'"
      ]
     },
     "execution_count": 107,
     "metadata": {},
     "output_type": "execute_result"
    }
   ],
   "source": [
    "# 폰의 모델명을 확인해 봅시다.\n",
    "my_phone.model"
   ]
  },
  {
   "cell_type": "code",
   "execution_count": 108,
   "metadata": {},
   "outputs": [],
   "source": [
    "# 모델을 바꿔 봅시다.\n",
    "my_phone.model = 'iPone XR'"
   ]
  },
  {
   "cell_type": "code",
   "execution_count": 109,
   "metadata": {},
   "outputs": [
    {
     "data": {
      "text/plain": [
       "'iPone XR'"
      ]
     },
     "execution_count": 109,
     "metadata": {},
     "output_type": "execute_result"
    }
   ],
   "source": [
    "# 폰 모델을 다시 확인해 봅시다.\n",
    "my_phone.model"
   ]
  },
  {
   "cell_type": "code",
   "execution_count": 110,
   "metadata": {},
   "outputs": [
    {
     "name": "stdout",
     "output_type": "stream",
     "text": [
      "꺼졌습니다.\n",
      "=========\n",
      "iPone XR\n",
      "=========\n"
     ]
    }
   ],
   "source": [
    "# 폰을 껐다 켜 봅시다.\n",
    "my_phone.off()\n",
    "my_phone.on()"
   ]
  },
  {
   "cell_type": "code",
   "execution_count": 111,
   "metadata": {},
   "outputs": [
    {
     "data": {
      "text/plain": [
       "True"
      ]
     },
     "execution_count": 111,
     "metadata": {},
     "output_type": "execute_result"
    }
   ],
   "source": [
    "# my_phone 이 Phone 클래스의 인스턴스인지 확인해 봅시다.\n",
    "isinstance(my_phone, Phone)"
   ]
  },
  {
   "cell_type": "code",
   "execution_count": 112,
   "metadata": {},
   "outputs": [
    {
     "data": {
      "text/plain": [
       "True"
      ]
     },
     "execution_count": 112,
     "metadata": {},
     "output_type": "execute_result"
    }
   ],
   "source": [
    "# 같은 질문이지만, 다르게 물어 봅시다.\n",
    "type(my_phone) == Phone"
   ]
  },
  {
   "cell_type": "code",
   "execution_count": 113,
   "metadata": {},
   "outputs": [
    {
     "name": "stdout",
     "output_type": "stream",
     "text": [
      "<class '__main__.Phone'>\n"
     ]
    }
   ],
   "source": [
    "# type을 확인해봅시다.\n",
    "print(type(my_phone))"
   ]
  },
  {
   "cell_type": "code",
   "execution_count": 114,
   "metadata": {},
   "outputs": [
    {
     "name": "stdout",
     "output_type": "stream",
     "text": [
      "<__main__.Phone object at 0x000001CBA24A41D0>\n"
     ]
    }
   ],
   "source": [
    "# my_phone 을 출력해 봅시다.\n",
    "print(my_phone)"
   ]
  },
  {
   "cell_type": "code",
   "execution_count": 115,
   "metadata": {},
   "outputs": [
    {
     "data": {
      "text/plain": [
       "<__main__.Phone at 0x1cba24a41d0>"
      ]
     },
     "execution_count": 115,
     "metadata": {},
     "output_type": "execute_result"
    }
   ],
   "source": [
    "# my_phone 을 다르게 볼까요?  위와 아래는 같다.\n",
    "my_phone"
   ]
  },
  {
   "cell_type": "code",
   "execution_count": 2,
   "metadata": {},
   "outputs": [],
   "source": [
    "# python 출력의 비밀 __repr__ 과 __str__\n",
    "# 특정 객체를 print() 할 때 보이는 값과\n",
    "# 그냥 객체 자체가 보여주는 값도 사실 모두 우리가 바꿀 수 있습니다.\n",
    "\n",
    "class Phone:\n",
    "    power = False\n",
    "    number = ''\n",
    "    book = {}\n",
    "    model = 'note8'\n",
    "    \n",
    "    def on(self):\n",
    "        if not self.power:\n",
    "            self.power = True\n",
    "            print('=========')\n",
    "            print(f'{self.model}')\n",
    "            print('=========')\n",
    "    def off(self):\n",
    "        if self.power:\n",
    "            self.power = False\n",
    "            print('꺼졌습니다.')\n",
    "    def __str__(self):\n",
    "        return 'print문에 넣으면 얘가 실행됩니다.'\n",
    "    def __repr__(self):\n",
    "        return '그냥 객체만 놔두면 얘가 나옵니다.'"
   ]
  },
  {
   "cell_type": "code",
   "execution_count": 3,
   "metadata": {},
   "outputs": [
    {
     "name": "stdout",
     "output_type": "stream",
     "text": [
      "print문에 넣으면 얘가 실행됩니다.\n"
     ]
    },
    {
     "data": {
      "text/plain": [
       "그냥 객체만 놔두면 얘가 나옵니다."
      ]
     },
     "execution_count": 3,
     "metadata": {},
     "output_type": "execute_result"
    }
   ],
   "source": [
    "p = Phone()\n",
    "print(p)\n",
    "p"
   ]
  },
  {
   "cell_type": "markdown",
   "metadata": {},
   "source": [
    "## MyList 만들기\n",
    "\n",
    "> 이제 배운 것을 활용하여 나만의 리스트 객체를 만들 수 있습니다. \n",
    ">\n",
    "> `class MyList:`\n",
    ">\n",
    "\n",
    "```\n",
    "* 클래스 변수\n",
    "data : 비어 있는 리스트\n",
    "\n",
    "* 메서드 \n",
    "append() : 값을 받아 data 에 추가합니다. 리턴 값은 없습니다.\n",
    "pop() : 마지막에 있는 값을 삭제하고, 해당 값을 리턴합니다.\n",
    "reverse() : 제자리에서 뒤집고 리턴 값은 없습니다.\n",
    "count(x) : x의 개수를 리턴합니다.\n",
    "clear() : 값을 모두 삭제합니다. 리턴값은 없습니다.\n",
    "\n",
    "__repr__ : ex) '내 리스트에는 [1, 2, 3] 이 담겨있다.'\n",
    "```"
   ]
  },
  {
   "cell_type": "code",
   "execution_count": 14,
   "metadata": {},
   "outputs": [],
   "source": [
    "# 아래에 코드를 작성해주세요.\n",
    "class MyList:\n",
    "    data = []\n",
    "    \n",
    "    def append(self, el):\n",
    "        self.data += [el]\n",
    "    def pop(self):\n",
    "        p = self.data[-1]\n",
    "        self.data = self.data[:-1]\n",
    "        return p\n",
    "    def reverse(self):\n",
    "        self.data = self.data[::-1]\n",
    "    def count(self, el):\n",
    "        return self.data.count(el)\n",
    "    def clear(self):\n",
    "        self.data = [] \n",
    "    def __repr__(self):\n",
    "        return f'내 리스트에는 {self.data} 이 담겨있다.'"
   ]
  },
  {
   "cell_type": "code",
   "execution_count": 22,
   "metadata": {},
   "outputs": [
    {
     "data": {
      "text/plain": [
       "['안녕',\n",
       " 123,\n",
       " True,\n",
       " '안녕',\n",
       " 123,\n",
       " True,\n",
       " '안녕',\n",
       " 123,\n",
       " True,\n",
       " '안녕',\n",
       " 123,\n",
       " True,\n",
       " '안녕',\n",
       " 123,\n",
       " True,\n",
       " '안녕',\n",
       " 123,\n",
       " True]"
      ]
     },
     "execution_count": 22,
     "metadata": {},
     "output_type": "execute_result"
    }
   ],
   "source": [
    "# 확인해 봅시다. 각 해당 셀을 두번 이상 실행하면 이상하게 동작합니다. Python Tutor 에서 확인해 봅시다.\n",
    "# (모든 객체의 data 가 같은 리스트를 참조합니다.)\n",
    "ml = MyList()\n",
    "ml.data\n",
    "ml.append('안녕')\n",
    "ml.data\n",
    "ml.append(123)\n",
    "ml.append(True)\n",
    "ml.data\n",
    "#print(ml)"
   ]
  },
  {
   "cell_type": "markdown",
   "metadata": {},
   "source": [
    "## 용어 정리\n",
    "\n",
    "```python\n",
    "class Person:                     #=> 클래스 정의(선언) : 클래스 객체 생성\n",
    "    name = 'unknown'              #=> 멤버 변수(data attribute)\n",
    "    def greeting(self):           #=> 멤버 메서드(메서드)\n",
    "        return f'{self.name}' \n",
    "```\n",
    "    \n",
    "    \n",
    "```python\n",
    "richard = Person()      # 인스턴스 객체 생성\n",
    "tim = Person()          # 인스턴스 객체 생성\n",
    "tim.name                # 데이터 어트리뷰트 호출\n",
    "tim.greeting()          # 메서드 호출\n",
    "```"
   ]
  },
  {
   "cell_type": "code",
   "execution_count": 120,
   "metadata": {},
   "outputs": [
    {
     "data": {
      "text/plain": [
       "'unknown입니다.'"
      ]
     },
     "execution_count": 120,
     "metadata": {},
     "output_type": "execute_result"
    }
   ],
   "source": [
    "# Person을 만들어봅시다.\n",
    "class Person:\n",
    "    name = 'unknown'\n",
    "    def greeting(self):\n",
    "        return f'{self.name}입니다.'\n",
    "    \n",
    "p1 = Person()\n",
    "p1.greeting()"
   ]
  },
  {
   "cell_type": "code",
   "execution_count": 121,
   "metadata": {},
   "outputs": [
    {
     "data": {
      "text/plain": [
       "True"
      ]
     },
     "execution_count": 121,
     "metadata": {},
     "output_type": "execute_result"
    }
   ],
   "source": [
    "# 클래스와 인스턴스간의 관계를 확인해 봅시다.\n",
    "isinstance(p1, Person)"
   ]
  },
  {
   "cell_type": "markdown",
   "metadata": {},
   "source": [
    "##  `self` : 인스턴스 객체 자기자신\n",
    "\n",
    "* C++ 혹은 자바에서의 this 키워드와 동일함. \n",
    "\n",
    "* 특별한 상황을 제외하고는 **무조건 메서드에서 `self`를 첫번째 인자로 설정한다.**\n",
    "\n",
    "* 메서드는 인스턴스 객체가 함수의 첫번째 인자로 전달되도록 되어있다."
   ]
  },
  {
   "cell_type": "code",
   "execution_count": 122,
   "metadata": {},
   "outputs": [
    {
     "data": {
      "text/plain": [
       "'yye입니다.'"
      ]
     },
     "execution_count": 122,
     "metadata": {},
     "output_type": "execute_result"
    }
   ],
   "source": [
    "# p1 의 이름을 자기 이름으로 바꾸고 다시 인사해 봅시다.\n",
    "p1.name = 'yye'\n",
    "p1.greeting()"
   ]
  },
  {
   "cell_type": "code",
   "execution_count": 123,
   "metadata": {},
   "outputs": [
    {
     "data": {
      "text/plain": [
       "'yye입니다.'"
      ]
     },
     "execution_count": 123,
     "metadata": {},
     "output_type": "execute_result"
    }
   ],
   "source": [
    "# 아까부터 궁금했던, 메서드 1번 인자 self 는 어디에 있는걸까요?\n",
    "# 실제로 이렇게 쓰지는 않지만 어떤 의미로는 이 코드가 더 직관적일 거에요.\n",
    "Person.greeting(p1)"
   ]
  },
  {
   "cell_type": "markdown",
   "metadata": {},
   "source": [
    "## 클래스-인스턴스간의 이름공간\n",
    "\n",
    "* 클래스를 정의하면, 클래스 객체가 생성되고 해당되는 이름 공간이 생성된다. \n",
    "\n",
    "* 인스턴스를 만들게 되면, 인스턴스 객체가 생성되고 해당되는 이름 공간이 생성된다. \n",
    "\n",
    "* 인스턴스의 어트리뷰트가 변경되면, 변경된 데이터를 인스턴스 객체 이름 공간에 저장한다.\n",
    "\n",
    "* 즉, 인스턴스에서 특정한 어트리뷰트에 접근하게 되면 인스턴스 => 클래스 순으로 탐색을 한다."
   ]
  },
  {
   "cell_type": "code",
   "execution_count": 124,
   "metadata": {},
   "outputs": [],
   "source": [
    "# 클래스 선언코드에서 메서드를 정의할 때, 왜 self 를 꼭 써준걸까요?\n",
    "class Person:\n",
    "    name = 'unknown'\n",
    "    \n",
    "    def greeting(self):\n",
    "        return f'my name is {name}'  \n",
    "    # 동작하지 않습니다. 생성된 객체는 method scope 안에서 name 이 뭔지 모릅니다."
   ]
  },
  {
   "cell_type": "code",
   "execution_count": 125,
   "metadata": {},
   "outputs": [
    {
     "ename": "NameError",
     "evalue": "name 'name' is not defined",
     "output_type": "error",
     "traceback": [
      "\u001b[1;31m---------------------------------------------------------------------------\u001b[0m",
      "\u001b[1;31mNameError\u001b[0m                                 Traceback (most recent call last)",
      "\u001b[1;32m<ipython-input-125-fee14d893a7f>\u001b[0m in \u001b[0;36m<module>\u001b[1;34m\u001b[0m\n\u001b[0;32m      1\u001b[0m \u001b[1;31m# 아래에서 확인해 봅시다.\u001b[0m\u001b[1;33m\u001b[0m\u001b[1;33m\u001b[0m\u001b[1;33m\u001b[0m\u001b[0m\n\u001b[0;32m      2\u001b[0m \u001b[0mp1\u001b[0m \u001b[1;33m=\u001b[0m \u001b[0mPerson\u001b[0m\u001b[1;33m(\u001b[0m\u001b[1;33m)\u001b[0m\u001b[1;33m\u001b[0m\u001b[1;33m\u001b[0m\u001b[0m\n\u001b[1;32m----> 3\u001b[1;33m \u001b[0mp1\u001b[0m\u001b[1;33m.\u001b[0m\u001b[0mgreeting\u001b[0m\u001b[1;33m(\u001b[0m\u001b[1;33m)\u001b[0m\u001b[1;33m\u001b[0m\u001b[1;33m\u001b[0m\u001b[0m\n\u001b[0m",
      "\u001b[1;32m<ipython-input-124-919153e6093c>\u001b[0m in \u001b[0;36mgreeting\u001b[1;34m(self)\u001b[0m\n\u001b[0;32m      4\u001b[0m \u001b[1;33m\u001b[0m\u001b[0m\n\u001b[0;32m      5\u001b[0m     \u001b[1;32mdef\u001b[0m \u001b[0mgreeting\u001b[0m\u001b[1;33m(\u001b[0m\u001b[0mself\u001b[0m\u001b[1;33m)\u001b[0m\u001b[1;33m:\u001b[0m\u001b[1;33m\u001b[0m\u001b[1;33m\u001b[0m\u001b[0m\n\u001b[1;32m----> 6\u001b[1;33m         \u001b[1;32mreturn\u001b[0m \u001b[1;34mf'my name is {name}'\u001b[0m\u001b[1;33m\u001b[0m\u001b[1;33m\u001b[0m\u001b[0m\n\u001b[0m\u001b[0;32m      7\u001b[0m     \u001b[1;31m# 동작하지 않습니다. 생성된 객체는 method scope 안에서 name 이 뭔지 모릅니다.\u001b[0m\u001b[1;33m\u001b[0m\u001b[1;33m\u001b[0m\u001b[1;33m\u001b[0m\u001b[0m\n",
      "\u001b[1;31mNameError\u001b[0m: name 'name' is not defined"
     ]
    }
   ],
   "source": [
    "# 아래에서 확인해 봅시다.\n",
    "p1 = Person()\n",
    "p1.greeting()"
   ]
  },
  {
   "cell_type": "code",
   "execution_count": 126,
   "metadata": {},
   "outputs": [],
   "source": [
    "# 다시, 클래스 선언코드에서 메서드를 정의할 때, 왜 self 를 꼭 써준걸까요?\n",
    "class Person:\n",
    "    name = 'unknown'\n",
    "    \n",
    "    def greeting(self):\n",
    "        return f'my name is {self.name}'  # 이번에는 *내*이름 을 찾아봅니다."
   ]
  },
  {
   "cell_type": "code",
   "execution_count": 127,
   "metadata": {},
   "outputs": [
    {
     "data": {
      "text/plain": [
       "'my name is unknown'"
      ]
     },
     "execution_count": 127,
     "metadata": {},
     "output_type": "execute_result"
    }
   ],
   "source": [
    "# 아래에서 확인해 봅시다.\n",
    "p2 = Person()\n",
    "p2.greeting()\n",
    "\n",
    "Person.greeting(p2)  # self = p2"
   ]
  },
  {
   "cell_type": "code",
   "execution_count": 128,
   "metadata": {},
   "outputs": [
    {
     "data": {
      "text/plain": [
       "'my name is change'"
      ]
     },
     "execution_count": 128,
     "metadata": {},
     "output_type": "execute_result"
    }
   ],
   "source": [
    "# 아래에서 p2 객체에게 이름을 지어 줍시다.\n",
    "p2.name = 'change'\n",
    "p2.name\n",
    "p2.greeting()"
   ]
  },
  {
   "cell_type": "code",
   "execution_count": 129,
   "metadata": {},
   "outputs": [
    {
     "data": {
      "text/html": [
       "\n",
       "        <iframe\n",
       "            width=\"100%\"\n",
       "            height=\"500px\"\n",
       "            src=\"http://bit.do/oop_instro_00\"\n",
       "            frameborder=\"0\"\n",
       "            allowfullscreen\n",
       "        ></iframe>\n",
       "        "
      ],
      "text/plain": [
       "<IPython.lib.display.IFrame at 0x1cba24a4ef0>"
      ]
     },
     "execution_count": 129,
     "metadata": {},
     "output_type": "execute_result"
    }
   ],
   "source": [
    "# python tutor 를 통해 확인해 봅시다.\n",
    "IFrame('http://bit.do/oop_instro_00', width='100%', height='500px')"
   ]
  },
  {
   "cell_type": "markdown",
   "metadata": {},
   "source": [
    "## 생성자 / 소멸자\n",
    "\n",
    "* 생성자는 인스턴스 객체가 생성될 때 호출되는 함수이며, 소멸자는 객체가 소멸되는 과정에서 호출되는 함수입니다.\n",
    "\n",
    "```python\n",
    "def __init__(self):\n",
    "    print('생성될 때 자동으로 호출되는 메서드입니다.')\n",
    "    \n",
    "def __del__(self):\n",
    "    print('소멸될 때 자동으로 호출되는 메서드입니다.')\n",
    "```\n",
    "\n",
    "```\n",
    "__someting__\n",
    "```\n",
    "\n",
    "위의 형식처럼 양쪽에 언더스코어가 있는 메서드를 `스페셜 메서드` 혹은 `매직 메서드`라고 불립니다."
   ]
  },
  {
   "cell_type": "code",
   "execution_count": 137,
   "metadata": {},
   "outputs": [],
   "source": [
    "# 생성자와 소멸자를 만들어봅시다.\n",
    "class Person:\n",
    "    def __init__(self):\n",
    "        print(\"응애\")\n",
    "    def __del__(self):\n",
    "        print(\"RIP\")"
   ]
  },
  {
   "cell_type": "code",
   "execution_count": 138,
   "metadata": {},
   "outputs": [
    {
     "name": "stdout",
     "output_type": "stream",
     "text": [
      "응애\n"
     ]
    }
   ],
   "source": [
    "# 생성해 봅시다.\n",
    "p1 = Person()"
   ]
  },
  {
   "cell_type": "code",
   "execution_count": 139,
   "metadata": {},
   "outputs": [
    {
     "name": "stdout",
     "output_type": "stream",
     "text": [
      "RIP\n"
     ]
    }
   ],
   "source": [
    "# 소멸시켜 봅시다.\n",
    "del p1"
   ]
  },
  {
   "cell_type": "code",
   "execution_count": 140,
   "metadata": {},
   "outputs": [],
   "source": [
    "# 생성자 역시 메서드(함수)기 때문에 추가인자를 받을 수 있습니다.\n",
    "class Person():\n",
    "    def __init__(self, name):\n",
    "        self.name = name\n",
    "        print(f'응애! 나는 {self.name}')\n",
    "    def __del__(self):\n",
    "        print(f'{self.name}은 떠난다...')"
   ]
  },
  {
   "cell_type": "code",
   "execution_count": 142,
   "metadata": {},
   "outputs": [
    {
     "name": "stdout",
     "output_type": "stream",
     "text": [
      "응애! 나는 change\n"
     ]
    }
   ],
   "source": [
    "# 생성과 동시에 인스턴스 변수에 값을 할당합니다.\n",
    "p1 = Person('change')    # __init__ p1 = self,  name = 'change'"
   ]
  },
  {
   "cell_type": "markdown",
   "metadata": {},
   "source": [
    "## 실습 (종합)\n",
    "\n",
    "> 사실 이전에 작성한 Mylist는 완벽하지 않았습니다. \n",
    ">\n",
    "> 한번 제대로 된 자료구조를 만들어보겠습니다. \n",
    ">\n",
    "> `Stack` 클래스를 간략하게 구현해봅시다.\n",
    "\n",
    "> [Stack](https://ko.wikipedia.org/wiki/%EC%8A%A4%ED%83%9D) : 스택은 LIFO(Last in First Out)으로 구조화된 자료구조를 뜻합니다.\n",
    "\n",
    "1. `empty()`: 스택이 비었다면 True을 주고, 그렇지 않다면 False가 된다.\n",
    "\n",
    "2. `top()`: 스택의 가장 마지막 데이터를 넘겨준다. 스택이 비었다면 None을 리턴한다.\n",
    "\n",
    "3. `pop()`: 스택의 가장 마지막 데이터의 값을 넘겨주고, 해당 데이터를 삭제한다. 스택이 비었다면 None을 리턴한다.\n",
    "\n",
    "4. `push()`: 스택의 가장 마지막 데이터 뒤에 값을 추가한다. 리턴 값은 없다.\n",
    "\n",
    "**다 작성했다면 __repr__ 을 통해 예쁘게 출력까지 해봅시다.**"
   ]
  },
  {
   "cell_type": "code",
   "execution_count": 135,
   "metadata": {},
   "outputs": [],
   "source": [
    "# 여기에 코드를 작성해주세요."
   ]
  },
  {
   "cell_type": "markdown",
   "metadata": {},
   "source": [
    "## 포켓몬 구현하기\n",
    "\n",
    "> 피카츄를 클래스-인스턴스로 구현해 봅시다. 게임을 만든다면 아래와 같이 먼저 기획을 하고 코드로 구현하게 됩니다.\n",
    "우선 아래와 같이 구현해 보고, 추가로 본인이 원하는 대로 구현 및 수정해 봅시다.\n",
    "\n",
    "모든 피카츄는 다음과 같은 속성을 갖습니다.\n",
    "* `name`: 이름\n",
    "* `level`: 레벨\n",
    "    * 레벨은 시작할 때 모두 5 입니다.\n",
    "* `hp`: 체력\n",
    "    * 체력은 `level` * 20 입니다.\n",
    "* `exp`: 경험치\n",
    "    * 상대방을 쓰러뜨리면 상대방 `level` * 15 를 획득합니다.\n",
    "    * 경험치는 `level` * 100 이 되면, 레벨이 하나 올라가고 0부터 추가 됩니다. \n",
    "\n",
    "모든 피카츄는 다음과 같은 행동(메서드)을 할 수 있습니다.\n",
    "* `bark()`: 울기. `'pikachu'` 를 출력합니다.\n",
    "* `body_attack()`: 몸통박치기. 상대방의 hp 를 내 `level` * 5 만큼 차감합니다.\n",
    "* `thousond_volt()`: 십만볼트. 상대방의 hp 를 내 `level` * 7 만큼 차감합니다."
   ]
  },
  {
   "cell_type": "code",
   "execution_count": 244,
   "metadata": {
    "scrolled": false
   },
   "outputs": [],
   "source": [
    "class Pikachu:\n",
    "    \n",
    "    pokemon_type = 'lightning'  # 다 같은 값\n",
    "    \n",
    "    def __init__(self, name):   # 각 객체마다 다른 값\n",
    "        self.name = name\n",
    "        self.level = 5\n",
    "        self.hp = self.level * 20\n",
    "        self.exp = 0\n",
    "\n",
    "    def bark(self):\n",
    "        print(f\"{self.name} : \\\"피-카-츄~~~~~\\\"\")\n",
    "        print()\n",
    "        \n",
    "    def body_attack(self, enemy):\n",
    "        if type(enemy) == Pikachu:\n",
    "            enemy.hp -= self.level * 5\n",
    "            self.exp_up(enemy)\n",
    "            self.level_up(enemy)\n",
    "            print(f'<<몸통박치기>> {enemy.name}의 hp는 {enemy.hp}입니다.')\n",
    "            print()\n",
    "        else:\n",
    "            print('피카츄를 넣어주세요.')\n",
    "            \n",
    "    def thousond_volt(self, enemy):\n",
    "        if type(enemy) == Pikachu:\n",
    "            enemy.hp -= self.level * 7\n",
    "            self.exp_up(enemy)\n",
    "            self.level_up(enemy)\n",
    "            print(f'<<십만볼트>> {enemy.name}의 hp는 {enemy.hp}입니다.')\n",
    "            print()\n",
    "        else:\n",
    "             print('피카츄를 넣어주세요.')\n",
    "            \n",
    "    def exp_up(self, enemy):        \n",
    "        if enemy.hp <= 0:\n",
    "            self.exp += enemy.level * 15\n",
    "            enemy.hp = 100\n",
    "            print(f'!!!!{enemy.name}가 죽었습니다. exp는 {self.exp}입니다!!!!')\n",
    "            print()\n",
    "            \n",
    "    def level_up(self, enemy):         \n",
    "        if self.exp >= self.level * 100:\n",
    "            self.level += 1\n",
    "            self.exp = self.exp - (self.level * 100)\n",
    "            print(f'{self.name}가 {self.level}레벨이 되었습니다.')"
   ]
  },
  {
   "cell_type": "code",
   "execution_count": 245,
   "metadata": {},
   "outputs": [
    {
     "name": "stdout",
     "output_type": "stream",
     "text": [
      "<<몸통박치기>> 나의 피카츄의 hp는 75입니다.\n",
      "\n",
      "나의 피카츄 : \"피-카-츄~~~~~\"\n",
      "\n",
      "<<몸통박치기>> 야생의 피카츄의 hp는 75입니다.\n",
      "\n",
      "<<십만볼트>> 야생의 피카츄의 hp는 40입니다.\n",
      "\n",
      "<<몸통박치기>> 야생의 피카츄의 hp는 15입니다.\n",
      "\n",
      "야생의 피카츄 : \"피-카-츄~~~~~\"\n",
      "\n",
      "!!!!야생의 피카츄가 죽었습니다. exp는 75입니다!!!!\n",
      "\n",
      "<<십만볼트>> 야생의 피카츄의 hp는 100입니다.\n",
      "\n",
      "<<몸통박치기>> 야생의 피카츄의 hp는 75입니다.\n",
      "\n"
     ]
    }
   ],
   "source": [
    "p1 = Pikachu('나의 피카츄')\n",
    "p2 = Pikachu('야생의 피카츄')\n",
    "#print(p1.name)\n",
    "\n",
    "p2.body_attack(p1)\n",
    "p1.bark()\n",
    "p1.body_attack(p2)\n",
    "p1.thousond_volt(p2)\n",
    "p1.body_attack(p2)\n",
    "p2.bark()\n",
    "p1.thousond_volt(p2)\n",
    "p1.body_attack(p2)\n",
    "\n",
    "#print(p1.pokemon_type)"
   ]
  },
  {
   "cell_type": "code",
   "execution_count": 218,
   "metadata": {},
   "outputs": [
    {
     "name": "stdout",
     "output_type": "stream",
     "text": [
      "####라운드 0####\n",
      "골든피카츄의 체력 : 100\n",
      "동네피카츄의 체력 : 100\n",
      "---------------------------\n",
      "골든피카츄 : 왈왈 피카츄\n",
      "🍃효과는 미미했다..\n",
      "\n",
      "\n",
      "####라운드 1####\n",
      "골든피카츄의 체력 : 100\n",
      "동네피카츄의 체력 : 100\n",
      "---------------------------\n",
      "동네피카츄 : 왈왈 피카츄\n",
      "🍃효과는 미미했다..\n",
      "\n",
      "\n",
      "####라운드 2####\n",
      "골든피카츄의 체력 : 100\n",
      "동네피카츄의 체력 : 100\n",
      "---------------------------\n",
      "골든피카츄 : 몸통박치기!!💨💨\n",
      "💥 골든피카츄(이)가 동네피카츄에게 25의 피해를 줬다!\n",
      "\n",
      "\n",
      "####라운드 3####\n",
      "골든피카츄의 체력 : 100\n",
      "동네피카츄의 체력 : 75\n",
      "---------------------------\n",
      "골든피카츄 : 몸통박치기!!💨💨\n",
      "💥 골든피카츄(이)가 동네피카츄에게 25의 피해를 줬다!\n",
      "\n",
      "\n",
      "####라운드 4####\n",
      "골든피카츄의 체력 : 100\n",
      "동네피카츄의 체력 : 50\n",
      "---------------------------\n",
      "골든피카츄 : 왈왈 피카츄\n",
      "🍃효과는 미미했다..\n",
      "\n",
      "\n",
      "####라운드 5####\n",
      "골든피카츄의 체력 : 100\n",
      "동네피카츄의 체력 : 50\n",
      "---------------------------\n",
      "동네피카츄 : 왈왈 피카츄\n",
      "🍃효과는 미미했다..\n",
      "\n",
      "\n",
      "####라운드 6####\n",
      "골든피카츄의 체력 : 100\n",
      "동네피카츄의 체력 : 50\n",
      "---------------------------\n",
      "골든피카츄 : 몸통박치기!!💨💨\n",
      "💥 골든피카츄(이)가 동네피카츄에게 25의 피해를 줬다!\n",
      "\n",
      "\n",
      "####라운드 7####\n",
      "골든피카츄의 체력 : 100\n",
      "동네피카츄의 체력 : 25\n",
      "---------------------------\n",
      "골든피카츄 : 몸통박치기!!💨💨\n",
      "💥 골든피카츄(이)가 동네피카츄에게 25의 피해를 줬다!\n",
      "👻 동네피카츄(을)를 쓰러뜨렸다!\n",
      "🎉 75의 경험치를 획득했다!🎉\n",
      "📊 남은 경험치 75 / 500\n",
      "\n",
      "\n",
      "####라운드 8####\n",
      "골든피카츄의 체력 : 100\n",
      "동네피카츄의 체력 : 0\n",
      "---------------------------\n",
      "동네피카츄 : 왈왈 피카츄\n",
      "🍃효과는 미미했다..\n",
      "\n",
      "\n",
      "####라운드 9####\n",
      "골든피카츄의 체력 : 100\n",
      "동네피카츄의 체력 : 0\n",
      "---------------------------\n",
      "동네피카츄 : ⚡ 천만볼트!!! ⚡\n",
      "💥 동네피카츄(이)가 골든피카츄에게 35의 피해를 줬다!\n",
      "\n",
      "\n",
      "####라운드 10####\n",
      "골든피카츄의 체력 : 65\n",
      "동네피카츄의 체력 : 0\n",
      "---------------------------\n",
      "동네피카츄 : 왈왈 피카츄\n",
      "🍃효과는 미미했다..\n",
      "\n",
      "\n",
      "####라운드 11####\n",
      "골든피카츄의 체력 : 65\n",
      "동네피카츄의 체력 : 0\n",
      "---------------------------\n",
      "동네피카츄 : 몸통박치기!!💨💨\n",
      "💥 동네피카츄(이)가 골든피카츄에게 25의 피해를 줬다!\n",
      "\n",
      "\n",
      "####라운드 12####\n",
      "골든피카츄의 체력 : 40\n",
      "동네피카츄의 체력 : 0\n",
      "---------------------------\n",
      "골든피카츄 : 왈왈 피카츄\n",
      "🍃효과는 미미했다..\n",
      "\n",
      "\n",
      "####라운드 13####\n",
      "골든피카츄의 체력 : 40\n",
      "동네피카츄의 체력 : 0\n",
      "---------------------------\n",
      "동네피카츄 : 몸통박치기!!💨💨\n",
      "💥 동네피카츄(이)가 골든피카츄에게 25의 피해를 줬다!\n",
      "\n",
      "\n",
      "####라운드 14####\n",
      "골든피카츄의 체력 : 15\n",
      "동네피카츄의 체력 : 0\n",
      "---------------------------\n",
      "골든피카츄 : 왈왈 피카츄\n",
      "🍃효과는 미미했다..\n",
      "\n",
      "\n",
      "####라운드 15####\n",
      "골든피카츄의 체력 : 15\n",
      "동네피카츄의 체력 : 0\n",
      "---------------------------\n",
      "동네피카츄 : 몸통박치기!!💨💨\n",
      "💥 동네피카츄(이)가 골든피카츄에게 25의 피해를 줬다!\n",
      "👻 골든피카츄(을)를 쓰러뜨렸다!\n",
      "🎉 75의 경험치를 획득했다!🎉\n",
      "📊 남은 경험치 75 / 500\n",
      "\n",
      "\n"
     ]
    }
   ],
   "source": [
    "# 아래에 코드를 작성해주세요.\n",
    "class Pikachu:\n",
    "    def __init__(self,name):\n",
    "        self.name = name\n",
    "        self.level = 5\n",
    "        self.hp = self.level * 20\n",
    "        self.exp = 0\n",
    "        \n",
    "    def get_exp(self,level):\n",
    "        # 만약 500이 필요한데 얻어서 515가 됬다면,\n",
    "        # 레벨업 하고, 515 - 500 만큼이 다음 경험치가 되어야겠다\n",
    "        \n",
    "        self.exp += level * 15\n",
    "        print(f\"🎉 {level*15}의 경험치를 획득했다!🎉\")\n",
    "        print(f\"📊 남은 경험치 {self.exp} / {self.level*100}\")\n",
    "        if self.exp >= self.level * 100 :\n",
    "            self.level +=1\n",
    "            self.exp = self.exp - (self.level * 100)\n",
    "            print(\"\\n\")\n",
    "            print(f\"🌟🌟🌟🌟🌟🌟🌟🌟🌟\")\n",
    "            print(f\"🎊 레벨이 {self.level}이 되었다! 🎊\")\n",
    "            print(f\"🌟🌟🌟🌟🌟🌟🌟🌟🌟\\n\")\n",
    "        \n",
    "    def bark(self):\n",
    "        print(f\"{self.name} : 왈왈 피카츄\")\n",
    "        print(\"🍃효과는 미미했다..\")\n",
    "        \n",
    "    def print_damage(self,enemy,damage):\n",
    "         print(f\"💥 {self.name}(이)가 {enemy.name}에게 {damage}의 피해를 줬다!\")\n",
    "    \n",
    "    def print_died_pikachu(self,enemy):\n",
    "        print(f\"💀 이미 먼지가 된 {enemy.name}을(를) 공격할 수 없습니다..\")\n",
    "    \n",
    "    def isCorrectPikachu(self,enemy):\n",
    "        if type(enemy) == type(self):\n",
    "            return True\n",
    "        else:\n",
    "            return False\n",
    "    \n",
    "    def body_attack(self,enemy):\n",
    "        if self.isCorrectPikachu(enemy):\n",
    "            if enemy.hp > 0:\n",
    "                print(f\"{self.name} : 몸통박치기!!💨💨\")\n",
    "                damage = self.level * 5\n",
    "                enemy.hp -= damage\n",
    "                \n",
    "                #츌력\n",
    "                self.print_damage(enemy,damage)\n",
    "                self.check_enemy_hp(enemy)\n",
    "                \n",
    "            else:\n",
    "                self.print_died_pikachu(enemy)\n",
    "        else:\n",
    "            print(\"올바른 피카츄를 넣어주세요\")\n",
    "    \n",
    "    def thousond_volt(self,enemy):\n",
    "        if self.isCorrectPikachu(enemy):\n",
    "            if enemy.hp > 0:\n",
    "                print(f\"{self.name} : ⚡ 천만볼트!!! ⚡\")\n",
    "                damage = self.level * 7\n",
    "                enemy.hp -= damage\n",
    "                \n",
    "                # 출력\n",
    "                self.print_damage(enemy,damage)\n",
    "                self.check_enemy_hp(enemy)\n",
    "                \n",
    "            else:\n",
    "                self.print_died_pikachu(enemy)\n",
    "        else:\n",
    "            print(\"올바른 피카츄를 넣어주세요\")\n",
    "    \n",
    "    def check_enemy_hp(self,enemy):\n",
    "        if enemy.hp <= 0:\n",
    "            print(f\"👻 {enemy.name}(을)를 쓰러뜨렸다!\")\n",
    "            self.get_exp(enemy.level)\n",
    "\n",
    "# 전투\n",
    "import random\n",
    "\n",
    "pika1 = Pikachu(\"골든피카츄\")\n",
    "pika2 = Pikachu(\"동네피카츄\")\n",
    "\n",
    "players = [pika1,pika2]\n",
    "\n",
    "cnt = 0\n",
    "while players[0].hp >= 0 and players[1].hp >= 0:\n",
    "    print(f\"####라운드 {cnt}####\")\n",
    "    print(f\"{players[0].name}의 체력 : {players[0].hp}\")\n",
    "    print(f\"{players[1].name}의 체력 : {players[1].hp}\")\n",
    "    print(\"---------------------------\")\n",
    "    \n",
    "    attacker = random.choice(players)\n",
    "    defencer = players[1] if attacker == players[0] else players[0]\n",
    "    \n",
    "\n",
    "    skill_number = random.randint(0,2)\n",
    "    \n",
    "    if skill_number == 0:\n",
    "        attacker.bark()\n",
    "    elif skill_number == 1:\n",
    "        attacker.body_attack(defencer)\n",
    "    else:\n",
    "        attacker.thousond_volt(defencer)\n",
    "    \n",
    "    cnt +=1\n",
    "    print(\"\\n\")"
   ]
  },
  {
   "cell_type": "markdown",
   "metadata": {},
   "source": [
    "### Workshop\n",
    "> 다음 조건에 맞는 Circle 클래스를 만들어 보세요.\n",
    "\n",
    "클래스 속성\n",
    "* `pi`: 3.14\n",
    "\n",
    "인스턴스 속성 (초기화 시 필요한 값들)\n",
    "* `r`: 원의 반지름 (필수 입력)\n",
    "* `x`: x좌표 (default 0)\n",
    "* `y`: y좌표 (default 0)\n",
    "\n",
    "인스턴스 메서드\n",
    "* `area()`: 원의 넓이를 반환\n",
    "* `circumference()`: 원의 둘레를 반환\n",
    "* `center()`: 원의 중심인 (x, y) 좌표를 튜플로 반환\n",
    "* `move(x, y)`: 원의 중심인 (x, y) 좌표를 입력받은 값으로 변경하고 변경된 좌표값을 튜플로 반환"
   ]
  },
  {
   "cell_type": "code",
   "execution_count": 20,
   "metadata": {},
   "outputs": [],
   "source": [
    "# 여기에 클래스를 정의하세요\n",
    "class Circle:\n",
    "    pi = 3.14\n",
    "    x = 0\n",
    "    y = 0\n",
    "    r = 0\n",
    "    \n",
    "    def __init__(self, r, x, y):\n",
    "        self.r = r\n",
    "        self.x = x\n",
    "        self.y = y\n",
    "        \n",
    "    def area(self):\n",
    "        return self.pi * self.r * self.r\n",
    "    \n",
    "    def circumference(self):\n",
    "        return 2 * self.pi * self.r\n",
    "    \n",
    "    def center(self):\n",
    "        return (self.x. self.y)"
   ]
  },
  {
   "cell_type": "code",
   "execution_count": 21,
   "metadata": {},
   "outputs": [
    {
     "name": "stdout",
     "output_type": "stream",
     "text": [
      "원의 넓이 : 28.259999999999998 / 원의 둘레 : 18.84\n"
     ]
    }
   ],
   "source": [
    "circle = Circle(3, 2, 4)\n",
    "print(f'원의 넓이 : {circle.area()}', end= ' / ')\n",
    "print(f'원의 둘레 : {circle.circumference()}')"
   ]
  },
  {
   "cell_type": "code",
   "execution_count": null,
   "metadata": {},
   "outputs": [],
   "source": []
  }
 ],
 "metadata": {
  "kernelspec": {
   "display_name": "Python 3",
   "language": "python",
   "name": "python3"
  },
  "language_info": {
   "codemirror_mode": {
    "name": "ipython",
    "version": 3
   },
   "file_extension": ".py",
   "mimetype": "text/x-python",
   "name": "python",
   "nbconvert_exporter": "python",
   "pygments_lexer": "ipython3",
   "version": "3.7.3"
  },
  "latex_envs": {
   "LaTeX_envs_menu_present": true,
   "autoclose": false,
   "autocomplete": true,
   "bibliofile": "biblio.bib",
   "cite_by": "apalike",
   "current_citInitial": 1,
   "eqLabelWithNumbers": true,
   "eqNumInitial": 1,
   "hotkeys": {
    "equation": "Ctrl-E",
    "itemize": "Ctrl-I"
   },
   "labels_anchors": false,
   "latex_user_defs": false,
   "report_style_numbering": false,
   "user_envs_cfg": false
  },
  "toc": {
   "base_numbering": 1,
   "nav_menu": {},
   "number_sections": true,
   "sideBar": true,
   "skip_h1_title": false,
   "title_cell": "Table of Contents",
   "title_sidebar": "Contents",
   "toc_cell": false,
   "toc_position": {
    "height": "calc(100% - 180px)",
    "left": "10px",
    "top": "150px",
    "width": "206.8px"
   },
   "toc_section_display": true,
   "toc_window_display": false
  }
 },
 "nbformat": 4,
 "nbformat_minor": 2
}
